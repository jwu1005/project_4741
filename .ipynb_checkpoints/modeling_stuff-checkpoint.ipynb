{
 "cells": [
  {
   "cell_type": "code",
   "execution_count": 1,
   "metadata": {},
   "outputs": [],
   "source": [
    "import pandas as pd"
   ]
  },
  {
   "cell_type": "code",
   "execution_count": 2,
   "metadata": {},
   "outputs": [],
   "source": [
    "hitting = pd.read_csv('data/hitting_2018.csv')\n",
    "pitching = pd.read_csv('data/pitching_2018.csv')"
   ]
  },
  {
   "cell_type": "code",
   "execution_count": 3,
   "metadata": {},
   "outputs": [
    {
     "data": {
      "text/html": [
       "<div>\n",
       "<style scoped>\n",
       "    .dataframe tbody tr th:only-of-type {\n",
       "        vertical-align: middle;\n",
       "    }\n",
       "\n",
       "    .dataframe tbody tr th {\n",
       "        vertical-align: top;\n",
       "    }\n",
       "\n",
       "    .dataframe thead th {\n",
       "        text-align: right;\n",
       "    }\n",
       "</style>\n",
       "<table border=\"1\" class=\"dataframe\">\n",
       "  <thead>\n",
       "    <tr style=\"text-align: right;\">\n",
       "      <th></th>\n",
       "      <th>date</th>\n",
       "      <th>h_team</th>\n",
       "      <th>h_obp</th>\n",
       "      <th>h_slg</th>\n",
       "      <th>h_k_rate</th>\n",
       "      <th>h_bb_rate</th>\n",
       "      <th>v_team</th>\n",
       "      <th>v_obp</th>\n",
       "      <th>v_slg</th>\n",
       "      <th>v_k_rate</th>\n",
       "      <th>v_bb_rate</th>\n",
       "      <th>home_win</th>\n",
       "    </tr>\n",
       "  </thead>\n",
       "  <tbody>\n",
       "    <tr>\n",
       "      <th>0</th>\n",
       "      <td>20180501</td>\n",
       "      <td>ARI</td>\n",
       "      <td>0.334</td>\n",
       "      <td>0.443</td>\n",
       "      <td>0.236</td>\n",
       "      <td>0.119</td>\n",
       "      <td>LAN</td>\n",
       "      <td>0.335</td>\n",
       "      <td>0.428</td>\n",
       "      <td>0.228</td>\n",
       "      <td>0.103</td>\n",
       "      <td>1</td>\n",
       "    </tr>\n",
       "    <tr>\n",
       "      <th>1</th>\n",
       "      <td>20180501</td>\n",
       "      <td>CHN</td>\n",
       "      <td>0.322</td>\n",
       "      <td>0.411</td>\n",
       "      <td>0.207</td>\n",
       "      <td>0.065</td>\n",
       "      <td>COL</td>\n",
       "      <td>0.336</td>\n",
       "      <td>0.366</td>\n",
       "      <td>0.249</td>\n",
       "      <td>0.110</td>\n",
       "      <td>0</td>\n",
       "    </tr>\n",
       "    <tr>\n",
       "      <th>2</th>\n",
       "      <td>20180501</td>\n",
       "      <td>CIN</td>\n",
       "      <td>0.369</td>\n",
       "      <td>0.434</td>\n",
       "      <td>0.181</td>\n",
       "      <td>0.117</td>\n",
       "      <td>MIL</td>\n",
       "      <td>0.291</td>\n",
       "      <td>0.330</td>\n",
       "      <td>0.209</td>\n",
       "      <td>0.106</td>\n",
       "      <td>0</td>\n",
       "    </tr>\n",
       "    <tr>\n",
       "      <th>3</th>\n",
       "      <td>20180501</td>\n",
       "      <td>MIA</td>\n",
       "      <td>0.308</td>\n",
       "      <td>0.366</td>\n",
       "      <td>0.252</td>\n",
       "      <td>0.087</td>\n",
       "      <td>PHI</td>\n",
       "      <td>0.320</td>\n",
       "      <td>0.373</td>\n",
       "      <td>0.261</td>\n",
       "      <td>0.102</td>\n",
       "      <td>1</td>\n",
       "    </tr>\n",
       "    <tr>\n",
       "      <th>4</th>\n",
       "      <td>20180501</td>\n",
       "      <td>NYN</td>\n",
       "      <td>0.326</td>\n",
       "      <td>0.357</td>\n",
       "      <td>0.206</td>\n",
       "      <td>0.108</td>\n",
       "      <td>ATL</td>\n",
       "      <td>0.341</td>\n",
       "      <td>0.464</td>\n",
       "      <td>0.215</td>\n",
       "      <td>0.088</td>\n",
       "      <td>0</td>\n",
       "    </tr>\n",
       "  </tbody>\n",
       "</table>\n",
       "</div>"
      ],
      "text/plain": [
       "       date h_team  h_obp  h_slg  h_k_rate  h_bb_rate v_team  v_obp  v_slg  \\\n",
       "0  20180501    ARI  0.334  0.443     0.236      0.119    LAN  0.335  0.428   \n",
       "1  20180501    CHN  0.322  0.411     0.207      0.065    COL  0.336  0.366   \n",
       "2  20180501    CIN  0.369  0.434     0.181      0.117    MIL  0.291  0.330   \n",
       "3  20180501    MIA  0.308  0.366     0.252      0.087    PHI  0.320  0.373   \n",
       "4  20180501    NYN  0.326  0.357     0.206      0.108    ATL  0.341  0.464   \n",
       "\n",
       "   v_k_rate  v_bb_rate  home_win  \n",
       "0     0.228      0.103         1  \n",
       "1     0.249      0.110         0  \n",
       "2     0.209      0.106         0  \n",
       "3     0.261      0.102         1  \n",
       "4     0.215      0.088         0  "
      ]
     },
     "execution_count": 3,
     "metadata": {},
     "output_type": "execute_result"
    }
   ],
   "source": [
    "hitting.head()"
   ]
  },
  {
   "cell_type": "code",
   "execution_count": 4,
   "metadata": {},
   "outputs": [
    {
     "data": {
      "text/html": [
       "<div>\n",
       "<style scoped>\n",
       "    .dataframe tbody tr th:only-of-type {\n",
       "        vertical-align: middle;\n",
       "    }\n",
       "\n",
       "    .dataframe tbody tr th {\n",
       "        vertical-align: top;\n",
       "    }\n",
       "\n",
       "    .dataframe thead th {\n",
       "        text-align: right;\n",
       "    }\n",
       "</style>\n",
       "<table border=\"1\" class=\"dataframe\">\n",
       "  <thead>\n",
       "    <tr style=\"text-align: right;\">\n",
       "      <th></th>\n",
       "      <th>date</th>\n",
       "      <th>h_team</th>\n",
       "      <th>h_sp_name</th>\n",
       "      <th>h_sp_obp</th>\n",
       "      <th>h_sp_slg</th>\n",
       "      <th>h_sp_gb/fb</th>\n",
       "      <th>h_sp_ld</th>\n",
       "      <th>h_sp_k/bb</th>\n",
       "      <th>v_team</th>\n",
       "      <th>v_sp_name</th>\n",
       "      <th>v_sp_obp</th>\n",
       "      <th>v_sp_slg</th>\n",
       "      <th>v_sp_gb/fb</th>\n",
       "      <th>v_sp_ld</th>\n",
       "      <th>v_sp_k/bb</th>\n",
       "    </tr>\n",
       "  </thead>\n",
       "  <tbody>\n",
       "    <tr>\n",
       "      <th>0</th>\n",
       "      <td>20180501</td>\n",
       "      <td>ARI</td>\n",
       "      <td>Matt Koch</td>\n",
       "      <td>0.261</td>\n",
       "      <td>0.429</td>\n",
       "      <td>0.62</td>\n",
       "      <td>0.24</td>\n",
       "      <td>2.0</td>\n",
       "      <td>LAN</td>\n",
       "      <td>Clayton Kershaw</td>\n",
       "      <td>0.278</td>\n",
       "      <td>0.466</td>\n",
       "      <td>0.54</td>\n",
       "      <td>0.21</td>\n",
       "      <td>3.83</td>\n",
       "    </tr>\n",
       "    <tr>\n",
       "      <th>1</th>\n",
       "      <td>20180501</td>\n",
       "      <td>CHN</td>\n",
       "      <td>Kyle Hendricks</td>\n",
       "      <td>0.222</td>\n",
       "      <td>0.432</td>\n",
       "      <td>0.67</td>\n",
       "      <td>0.18</td>\n",
       "      <td>NaN</td>\n",
       "      <td>COL</td>\n",
       "      <td>Jon Gray</td>\n",
       "      <td>0.338</td>\n",
       "      <td>0.545</td>\n",
       "      <td>0.33</td>\n",
       "      <td>0.45</td>\n",
       "      <td>3.6</td>\n",
       "    </tr>\n",
       "    <tr>\n",
       "      <th>2</th>\n",
       "      <td>20180501</td>\n",
       "      <td>CIN</td>\n",
       "      <td>Homer Bailey</td>\n",
       "      <td>0.333</td>\n",
       "      <td>0.706</td>\n",
       "      <td>0.42</td>\n",
       "      <td>0.22</td>\n",
       "      <td>1.8</td>\n",
       "      <td>MIL</td>\n",
       "      <td>Chase Anderson</td>\n",
       "      <td>0.271</td>\n",
       "      <td>0.381</td>\n",
       "      <td>0.5</td>\n",
       "      <td>0.08</td>\n",
       "      <td>2.0</td>\n",
       "    </tr>\n",
       "    <tr>\n",
       "      <th>3</th>\n",
       "      <td>20180501</td>\n",
       "      <td>MIA</td>\n",
       "      <td>Jarlin Garcia</td>\n",
       "      <td>0.256</td>\n",
       "      <td>0.351</td>\n",
       "      <td>0.32</td>\n",
       "      <td>0.21</td>\n",
       "      <td>1.5</td>\n",
       "      <td>PHI</td>\n",
       "      <td>Zach Eflin</td>\n",
       "      <td>Debute</td>\n",
       "      <td>Debute</td>\n",
       "      <td>Debute</td>\n",
       "      <td>Debute</td>\n",
       "      <td>Debute</td>\n",
       "    </tr>\n",
       "    <tr>\n",
       "      <th>4</th>\n",
       "      <td>20180501</td>\n",
       "      <td>NYN</td>\n",
       "      <td>Noah Syndergaard</td>\n",
       "      <td>0.219</td>\n",
       "      <td>0.38</td>\n",
       "      <td>0.42</td>\n",
       "      <td>0.27</td>\n",
       "      <td>24.0</td>\n",
       "      <td>ATL</td>\n",
       "      <td>Mike Soroka</td>\n",
       "      <td>Debute</td>\n",
       "      <td>Debute</td>\n",
       "      <td>Debute</td>\n",
       "      <td>Debute</td>\n",
       "      <td>Debute</td>\n",
       "    </tr>\n",
       "  </tbody>\n",
       "</table>\n",
       "</div>"
      ],
      "text/plain": [
       "       date h_team         h_sp_name h_sp_obp h_sp_slg h_sp_gb/fb h_sp_ld  \\\n",
       "0  20180501    ARI         Matt Koch    0.261    0.429       0.62    0.24   \n",
       "1  20180501    CHN    Kyle Hendricks    0.222    0.432       0.67    0.18   \n",
       "2  20180501    CIN      Homer Bailey    0.333    0.706       0.42    0.22   \n",
       "3  20180501    MIA     Jarlin Garcia    0.256    0.351       0.32    0.21   \n",
       "4  20180501    NYN  Noah Syndergaard    0.219     0.38       0.42    0.27   \n",
       "\n",
       "  h_sp_k/bb v_team        v_sp_name v_sp_obp v_sp_slg v_sp_gb/fb v_sp_ld  \\\n",
       "0       2.0    LAN  Clayton Kershaw    0.278    0.466       0.54    0.21   \n",
       "1       NaN    COL         Jon Gray    0.338    0.545       0.33    0.45   \n",
       "2       1.8    MIL   Chase Anderson    0.271    0.381        0.5    0.08   \n",
       "3       1.5    PHI       Zach Eflin   Debute   Debute     Debute  Debute   \n",
       "4      24.0    ATL      Mike Soroka   Debute   Debute     Debute  Debute   \n",
       "\n",
       "  v_sp_k/bb  \n",
       "0      3.83  \n",
       "1       3.6  \n",
       "2       2.0  \n",
       "3    Debute  \n",
       "4    Debute  "
      ]
     },
     "execution_count": 4,
     "metadata": {},
     "output_type": "execute_result"
    }
   ],
   "source": [
    "pitching.head()"
   ]
  },
  {
   "cell_type": "code",
   "execution_count": 5,
   "metadata": {},
   "outputs": [
    {
     "data": {
      "text/plain": [
       "date           int64\n",
       "h_team        object\n",
       "h_sp_name     object\n",
       "h_sp_obp      object\n",
       "h_sp_slg      object\n",
       "h_sp_gb/fb    object\n",
       "h_sp_ld       object\n",
       "h_sp_k/bb     object\n",
       "v_team        object\n",
       "v_sp_name     object\n",
       "v_sp_obp      object\n",
       "v_sp_slg      object\n",
       "v_sp_gb/fb    object\n",
       "v_sp_ld       object\n",
       "v_sp_k/bb     object\n",
       "dtype: object"
      ]
     },
     "execution_count": 5,
     "metadata": {},
     "output_type": "execute_result"
    }
   ],
   "source": [
    "pitching.dtypes"
   ]
  },
  {
   "cell_type": "markdown",
   "metadata": {},
   "source": [
    "switch 'debute' with nan to make columns float type"
   ]
  },
  {
   "cell_type": "code",
   "execution_count": 5,
   "metadata": {},
   "outputs": [],
   "source": [
    "pitching.replace('Debute', float('nan'), inplace=True)"
   ]
  },
  {
   "cell_type": "code",
   "execution_count": 6,
   "metadata": {},
   "outputs": [],
   "source": [
    "col_to_change = ['h_sp_obp','h_sp_slg','h_sp_gb/fb','h_sp_ld','h_sp_k/bb','v_sp_obp','v_sp_slg',\n",
    "                 'v_sp_gb/fb','v_sp_ld','v_sp_k/bb']\n",
    "pitching[col_to_change] = pitching[col_to_change].apply(pd.to_numeric)"
   ]
  },
  {
   "cell_type": "code",
   "execution_count": 7,
   "metadata": {},
   "outputs": [
    {
     "data": {
      "text/html": [
       "<div>\n",
       "<style scoped>\n",
       "    .dataframe tbody tr th:only-of-type {\n",
       "        vertical-align: middle;\n",
       "    }\n",
       "\n",
       "    .dataframe tbody tr th {\n",
       "        vertical-align: top;\n",
       "    }\n",
       "\n",
       "    .dataframe thead th {\n",
       "        text-align: right;\n",
       "    }\n",
       "</style>\n",
       "<table border=\"1\" class=\"dataframe\">\n",
       "  <thead>\n",
       "    <tr style=\"text-align: right;\">\n",
       "      <th></th>\n",
       "      <th>date</th>\n",
       "      <th>h_team</th>\n",
       "      <th>h_sp_name</th>\n",
       "      <th>h_sp_obp</th>\n",
       "      <th>h_sp_slg</th>\n",
       "      <th>h_sp_gb/fb</th>\n",
       "      <th>h_sp_ld</th>\n",
       "      <th>h_sp_k/bb</th>\n",
       "      <th>v_team</th>\n",
       "      <th>v_sp_name</th>\n",
       "      <th>v_sp_obp</th>\n",
       "      <th>v_sp_slg</th>\n",
       "      <th>v_sp_gb/fb</th>\n",
       "      <th>v_sp_ld</th>\n",
       "      <th>v_sp_k/bb</th>\n",
       "    </tr>\n",
       "  </thead>\n",
       "  <tbody>\n",
       "    <tr>\n",
       "      <th>0</th>\n",
       "      <td>20180501</td>\n",
       "      <td>ARI</td>\n",
       "      <td>Matt Koch</td>\n",
       "      <td>0.261</td>\n",
       "      <td>0.429</td>\n",
       "      <td>0.62</td>\n",
       "      <td>0.24</td>\n",
       "      <td>2.0</td>\n",
       "      <td>LAN</td>\n",
       "      <td>Clayton Kershaw</td>\n",
       "      <td>0.278</td>\n",
       "      <td>0.466</td>\n",
       "      <td>0.54</td>\n",
       "      <td>0.21</td>\n",
       "      <td>3.83</td>\n",
       "    </tr>\n",
       "    <tr>\n",
       "      <th>1</th>\n",
       "      <td>20180501</td>\n",
       "      <td>CHN</td>\n",
       "      <td>Kyle Hendricks</td>\n",
       "      <td>0.222</td>\n",
       "      <td>0.432</td>\n",
       "      <td>0.67</td>\n",
       "      <td>0.18</td>\n",
       "      <td>NaN</td>\n",
       "      <td>COL</td>\n",
       "      <td>Jon Gray</td>\n",
       "      <td>0.338</td>\n",
       "      <td>0.545</td>\n",
       "      <td>0.33</td>\n",
       "      <td>0.45</td>\n",
       "      <td>3.60</td>\n",
       "    </tr>\n",
       "    <tr>\n",
       "      <th>2</th>\n",
       "      <td>20180501</td>\n",
       "      <td>CIN</td>\n",
       "      <td>Homer Bailey</td>\n",
       "      <td>0.333</td>\n",
       "      <td>0.706</td>\n",
       "      <td>0.42</td>\n",
       "      <td>0.22</td>\n",
       "      <td>1.8</td>\n",
       "      <td>MIL</td>\n",
       "      <td>Chase Anderson</td>\n",
       "      <td>0.271</td>\n",
       "      <td>0.381</td>\n",
       "      <td>0.50</td>\n",
       "      <td>0.08</td>\n",
       "      <td>2.00</td>\n",
       "    </tr>\n",
       "    <tr>\n",
       "      <th>3</th>\n",
       "      <td>20180501</td>\n",
       "      <td>MIA</td>\n",
       "      <td>Jarlin Garcia</td>\n",
       "      <td>0.256</td>\n",
       "      <td>0.351</td>\n",
       "      <td>0.32</td>\n",
       "      <td>0.21</td>\n",
       "      <td>1.5</td>\n",
       "      <td>PHI</td>\n",
       "      <td>Zach Eflin</td>\n",
       "      <td>NaN</td>\n",
       "      <td>NaN</td>\n",
       "      <td>NaN</td>\n",
       "      <td>NaN</td>\n",
       "      <td>NaN</td>\n",
       "    </tr>\n",
       "    <tr>\n",
       "      <th>4</th>\n",
       "      <td>20180501</td>\n",
       "      <td>NYN</td>\n",
       "      <td>Noah Syndergaard</td>\n",
       "      <td>0.219</td>\n",
       "      <td>0.380</td>\n",
       "      <td>0.42</td>\n",
       "      <td>0.27</td>\n",
       "      <td>24.0</td>\n",
       "      <td>ATL</td>\n",
       "      <td>Mike Soroka</td>\n",
       "      <td>NaN</td>\n",
       "      <td>NaN</td>\n",
       "      <td>NaN</td>\n",
       "      <td>NaN</td>\n",
       "      <td>NaN</td>\n",
       "    </tr>\n",
       "  </tbody>\n",
       "</table>\n",
       "</div>"
      ],
      "text/plain": [
       "       date h_team         h_sp_name  h_sp_obp  h_sp_slg  h_sp_gb/fb  h_sp_ld  \\\n",
       "0  20180501    ARI         Matt Koch     0.261     0.429        0.62     0.24   \n",
       "1  20180501    CHN    Kyle Hendricks     0.222     0.432        0.67     0.18   \n",
       "2  20180501    CIN      Homer Bailey     0.333     0.706        0.42     0.22   \n",
       "3  20180501    MIA     Jarlin Garcia     0.256     0.351        0.32     0.21   \n",
       "4  20180501    NYN  Noah Syndergaard     0.219     0.380        0.42     0.27   \n",
       "\n",
       "   h_sp_k/bb v_team        v_sp_name  v_sp_obp  v_sp_slg  v_sp_gb/fb  v_sp_ld  \\\n",
       "0        2.0    LAN  Clayton Kershaw     0.278     0.466        0.54     0.21   \n",
       "1        NaN    COL         Jon Gray     0.338     0.545        0.33     0.45   \n",
       "2        1.8    MIL   Chase Anderson     0.271     0.381        0.50     0.08   \n",
       "3        1.5    PHI       Zach Eflin       NaN       NaN         NaN      NaN   \n",
       "4       24.0    ATL      Mike Soroka       NaN       NaN         NaN      NaN   \n",
       "\n",
       "   v_sp_k/bb  \n",
       "0       3.83  \n",
       "1       3.60  \n",
       "2       2.00  \n",
       "3        NaN  \n",
       "4        NaN  "
      ]
     },
     "execution_count": 7,
     "metadata": {},
     "output_type": "execute_result"
    }
   ],
   "source": [
    "pitching.head()"
   ]
  },
  {
   "cell_type": "code",
   "execution_count": 18,
   "metadata": {},
   "outputs": [
    {
     "data": {
      "text/plain": [
       "(2010, 15)"
      ]
     },
     "execution_count": 18,
     "metadata": {},
     "output_type": "execute_result"
    }
   ],
   "source": [
    "pitching.shape"
   ]
  },
  {
   "cell_type": "code",
   "execution_count": 22,
   "metadata": {},
   "outputs": [
    {
     "data": {
      "text/plain": [
       "395"
      ]
     },
     "execution_count": 22,
     "metadata": {},
     "output_type": "execute_result"
    }
   ],
   "source": [
    "null_rows = 0\n",
    "for i in range(pitching.shape[0]):\n",
    "    null_rows += int(pitching.iloc[i].isnull().sum() > 0)\n",
    "null_rows"
   ]
  },
  {
   "cell_type": "code",
   "execution_count": 23,
   "metadata": {},
   "outputs": [
    {
     "data": {
      "text/plain": [
       "292"
      ]
     },
     "execution_count": 23,
     "metadata": {},
     "output_type": "execute_result"
    }
   ],
   "source": [
    "pitching_no_kbb = pitching.drop(columns=['h_sp_k/bb','v_sp_k/bb'])\n",
    "null_rows = 0\n",
    "for i in range(pitching_no_kbb.shape[0]):\n",
    "    null_rows += int(pitching_no_kbb.iloc[i].isnull().sum() > 0)\n",
    "null_rows"
   ]
  },
  {
   "cell_type": "markdown",
   "metadata": {},
   "source": [
    "consider not using strike to walk ratio; very possible pitcher walked no batters over past few starts (wow)"
   ]
  },
  {
   "cell_type": "code",
   "execution_count": 29,
   "metadata": {},
   "outputs": [
    {
     "data": {
      "text/plain": [
       "(2010, 12)"
      ]
     },
     "execution_count": 29,
     "metadata": {},
     "output_type": "execute_result"
    }
   ],
   "source": [
    "hitting.shape"
   ]
  },
  {
   "cell_type": "code",
   "execution_count": 30,
   "metadata": {},
   "outputs": [
    {
     "data": {
      "text/plain": [
       "2010"
      ]
     },
     "execution_count": 30,
     "metadata": {},
     "output_type": "execute_result"
    }
   ],
   "source": [
    "matched = 0\n",
    "for i in range(hitting.shape[0]):\n",
    "    hit_row = hitting.iloc[i]\n",
    "    pitch_row = pitching.iloc[i]\n",
    "    date_same = (hit_row['date'] == pitch_row['date'])\n",
    "    h_team_same = (hit_row['h_team'] == pitch_row['h_team'])\n",
    "    v_team_same = (hit_row['v_team'] == pitch_row['v_team'])\n",
    "    matched += int(date_same & h_team_same & v_team_same)\n",
    "matched"
   ]
  },
  {
   "cell_type": "code",
   "execution_count": 33,
   "metadata": {},
   "outputs": [
    {
     "data": {
      "text/plain": [
       "False"
      ]
     },
     "execution_count": 33,
     "metadata": {},
     "output_type": "execute_result"
    }
   ],
   "source": [
    "hitting.isnull().values.any()"
   ]
  },
  {
   "cell_type": "code",
   "execution_count": 8,
   "metadata": {},
   "outputs": [
    {
     "data": {
      "text/html": [
       "<div>\n",
       "<style scoped>\n",
       "    .dataframe tbody tr th:only-of-type {\n",
       "        vertical-align: middle;\n",
       "    }\n",
       "\n",
       "    .dataframe tbody tr th {\n",
       "        vertical-align: top;\n",
       "    }\n",
       "\n",
       "    .dataframe thead th {\n",
       "        text-align: right;\n",
       "    }\n",
       "</style>\n",
       "<table border=\"1\" class=\"dataframe\">\n",
       "  <thead>\n",
       "    <tr style=\"text-align: right;\">\n",
       "      <th></th>\n",
       "      <th>date</th>\n",
       "      <th>h_team</th>\n",
       "      <th>h_sp_name</th>\n",
       "      <th>h_sp_obp</th>\n",
       "      <th>h_sp_slg</th>\n",
       "      <th>h_sp_gb/fb</th>\n",
       "      <th>h_sp_ld</th>\n",
       "      <th>h_sp_k/bb</th>\n",
       "      <th>v_team</th>\n",
       "      <th>v_sp_name</th>\n",
       "      <th>...</th>\n",
       "      <th>v_sp_k/bb</th>\n",
       "      <th>h_obp</th>\n",
       "      <th>h_slg</th>\n",
       "      <th>h_k_rate</th>\n",
       "      <th>h_bb_rate</th>\n",
       "      <th>v_obp</th>\n",
       "      <th>v_slg</th>\n",
       "      <th>v_k_rate</th>\n",
       "      <th>v_bb_rate</th>\n",
       "      <th>home_win</th>\n",
       "    </tr>\n",
       "  </thead>\n",
       "  <tbody>\n",
       "    <tr>\n",
       "      <th>0</th>\n",
       "      <td>20180501</td>\n",
       "      <td>ARI</td>\n",
       "      <td>Matt Koch</td>\n",
       "      <td>0.261</td>\n",
       "      <td>0.429</td>\n",
       "      <td>0.62</td>\n",
       "      <td>0.24</td>\n",
       "      <td>2.0</td>\n",
       "      <td>LAN</td>\n",
       "      <td>Clayton Kershaw</td>\n",
       "      <td>...</td>\n",
       "      <td>3.83</td>\n",
       "      <td>0.334</td>\n",
       "      <td>0.443</td>\n",
       "      <td>0.236</td>\n",
       "      <td>0.119</td>\n",
       "      <td>0.335</td>\n",
       "      <td>0.428</td>\n",
       "      <td>0.228</td>\n",
       "      <td>0.103</td>\n",
       "      <td>1</td>\n",
       "    </tr>\n",
       "    <tr>\n",
       "      <th>2</th>\n",
       "      <td>20180501</td>\n",
       "      <td>CIN</td>\n",
       "      <td>Homer Bailey</td>\n",
       "      <td>0.333</td>\n",
       "      <td>0.706</td>\n",
       "      <td>0.42</td>\n",
       "      <td>0.22</td>\n",
       "      <td>1.8</td>\n",
       "      <td>MIL</td>\n",
       "      <td>Chase Anderson</td>\n",
       "      <td>...</td>\n",
       "      <td>2.00</td>\n",
       "      <td>0.369</td>\n",
       "      <td>0.434</td>\n",
       "      <td>0.181</td>\n",
       "      <td>0.117</td>\n",
       "      <td>0.291</td>\n",
       "      <td>0.330</td>\n",
       "      <td>0.209</td>\n",
       "      <td>0.106</td>\n",
       "      <td>0</td>\n",
       "    </tr>\n",
       "    <tr>\n",
       "      <th>6</th>\n",
       "      <td>20180501</td>\n",
       "      <td>SLN</td>\n",
       "      <td>Michael Wacha</td>\n",
       "      <td>0.265</td>\n",
       "      <td>0.239</td>\n",
       "      <td>0.44</td>\n",
       "      <td>0.36</td>\n",
       "      <td>5.5</td>\n",
       "      <td>CHA</td>\n",
       "      <td>James Shields</td>\n",
       "      <td>...</td>\n",
       "      <td>0.80</td>\n",
       "      <td>0.308</td>\n",
       "      <td>0.359</td>\n",
       "      <td>0.211</td>\n",
       "      <td>0.096</td>\n",
       "      <td>0.318</td>\n",
       "      <td>0.472</td>\n",
       "      <td>0.217</td>\n",
       "      <td>0.056</td>\n",
       "      <td>1</td>\n",
       "    </tr>\n",
       "    <tr>\n",
       "      <th>7</th>\n",
       "      <td>20180501</td>\n",
       "      <td>WAS</td>\n",
       "      <td>Max Scherzer</td>\n",
       "      <td>0.243</td>\n",
       "      <td>0.424</td>\n",
       "      <td>0.37</td>\n",
       "      <td>0.20</td>\n",
       "      <td>5.0</td>\n",
       "      <td>PIT</td>\n",
       "      <td>Chad Kuhl</td>\n",
       "      <td>...</td>\n",
       "      <td>2.80</td>\n",
       "      <td>0.336</td>\n",
       "      <td>0.378</td>\n",
       "      <td>0.198</td>\n",
       "      <td>0.112</td>\n",
       "      <td>0.342</td>\n",
       "      <td>0.387</td>\n",
       "      <td>0.197</td>\n",
       "      <td>0.102</td>\n",
       "      <td>1</td>\n",
       "    </tr>\n",
       "    <tr>\n",
       "      <th>8</th>\n",
       "      <td>20180501</td>\n",
       "      <td>ANA</td>\n",
       "      <td>Nick Tropeano</td>\n",
       "      <td>0.378</td>\n",
       "      <td>0.744</td>\n",
       "      <td>0.39</td>\n",
       "      <td>0.23</td>\n",
       "      <td>1.8</td>\n",
       "      <td>BAL</td>\n",
       "      <td>Alex Cobb</td>\n",
       "      <td>...</td>\n",
       "      <td>1.33</td>\n",
       "      <td>0.246</td>\n",
       "      <td>0.323</td>\n",
       "      <td>0.255</td>\n",
       "      <td>0.080</td>\n",
       "      <td>0.312</td>\n",
       "      <td>0.447</td>\n",
       "      <td>0.207</td>\n",
       "      <td>0.077</td>\n",
       "      <td>1</td>\n",
       "    </tr>\n",
       "  </tbody>\n",
       "</table>\n",
       "<p>5 rows × 24 columns</p>\n",
       "</div>"
      ],
      "text/plain": [
       "       date h_team      h_sp_name  h_sp_obp  h_sp_slg  h_sp_gb/fb  h_sp_ld  \\\n",
       "0  20180501    ARI      Matt Koch     0.261     0.429        0.62     0.24   \n",
       "2  20180501    CIN   Homer Bailey     0.333     0.706        0.42     0.22   \n",
       "6  20180501    SLN  Michael Wacha     0.265     0.239        0.44     0.36   \n",
       "7  20180501    WAS   Max Scherzer     0.243     0.424        0.37     0.20   \n",
       "8  20180501    ANA  Nick Tropeano     0.378     0.744        0.39     0.23   \n",
       "\n",
       "   h_sp_k/bb v_team        v_sp_name    ...     v_sp_k/bb  h_obp  h_slg  \\\n",
       "0        2.0    LAN  Clayton Kershaw    ...          3.83  0.334  0.443   \n",
       "2        1.8    MIL   Chase Anderson    ...          2.00  0.369  0.434   \n",
       "6        5.5    CHA    James Shields    ...          0.80  0.308  0.359   \n",
       "7        5.0    PIT        Chad Kuhl    ...          2.80  0.336  0.378   \n",
       "8        1.8    BAL        Alex Cobb    ...          1.33  0.246  0.323   \n",
       "\n",
       "   h_k_rate  h_bb_rate  v_obp  v_slg  v_k_rate  v_bb_rate  home_win  \n",
       "0     0.236      0.119  0.335  0.428     0.228      0.103         1  \n",
       "2     0.181      0.117  0.291  0.330     0.209      0.106         0  \n",
       "6     0.211      0.096  0.318  0.472     0.217      0.056         1  \n",
       "7     0.198      0.112  0.342  0.387     0.197      0.102         1  \n",
       "8     0.255      0.080  0.312  0.447     0.207      0.077         1  \n",
       "\n",
       "[5 rows x 24 columns]"
      ]
     },
     "execution_count": 8,
     "metadata": {},
     "output_type": "execute_result"
    }
   ],
   "source": [
    "data_2018 = pitching.merge(hitting.drop(columns=['date','h_team','v_team']), how='outer', left_index=True, right_index=True).dropna()\n",
    "data_2018.head()"
   ]
  },
  {
   "cell_type": "code",
   "execution_count": 9,
   "metadata": {},
   "outputs": [
    {
     "data": {
      "text/plain": [
       "(1615, 24)"
      ]
     },
     "execution_count": 9,
     "metadata": {},
     "output_type": "execute_result"
    }
   ],
   "source": [
    "data_2018.shape"
   ]
  },
  {
   "cell_type": "markdown",
   "metadata": {},
   "source": [
    "plots"
   ]
  },
  {
   "cell_type": "code",
   "execution_count": 2,
   "metadata": {},
   "outputs": [],
   "source": [
    "import matplotlib.pyplot as plt"
   ]
  },
  {
   "cell_type": "code",
   "execution_count": 19,
   "metadata": {},
   "outputs": [],
   "source": [
    "win_percents = {}\n",
    "for team in data_2018['h_team'].unique():\n",
    "    t_wins = data_2018.loc[(data_2018['h_team']==team) & (data_2018['home_win']==1)|(data_2018['v_team']==team) & (data_2018['home_win']==0)].shape[0]\n",
    "    t_games = data_2018.loc[(data_2018['h_team']==team)|(data_2018['v_team']==team)].shape[0]\n",
    "    win_percents[team] = t_wins/t_games"
   ]
  },
  {
   "cell_type": "code",
   "execution_count": 20,
   "metadata": {
    "scrolled": true
   },
   "outputs": [
    {
     "data": {
      "text/plain": [
       "{'ARI': 0.4666666666666667,\n",
       " 'CIN': 0.48672566371681414,\n",
       " 'SLN': 0.5233644859813084,\n",
       " 'WAS': 0.49038461538461536,\n",
       " 'ANA': 0.4642857142857143,\n",
       " 'CLE': 0.5631067961165048,\n",
       " 'HOU': 0.6464646464646465,\n",
       " 'MIN': 0.4818181818181818,\n",
       " 'SEA': 0.5471698113207547,\n",
       " 'CHN': 0.5775862068965517,\n",
       " 'MIA': 0.3761467889908257,\n",
       " 'NYN': 0.44144144144144143,\n",
       " 'SFN': 0.46153846153846156,\n",
       " 'BOS': 0.6756756756756757,\n",
       " 'DET': 0.29333333333333333,\n",
       " 'CHA': 0.38392857142857145,\n",
       " 'TEX': 0.42342342342342343,\n",
       " 'ATL': 0.5188679245283019,\n",
       " 'SDN': 0.41964285714285715,\n",
       " 'KCA': 0.39361702127659576,\n",
       " 'NYA': 0.6283185840707964,\n",
       " 'OAK': 0.59375,\n",
       " 'TBA': 0.5925925925925926,\n",
       " 'MIL': 0.5929203539823009,\n",
       " 'COL': 0.5882352941176471,\n",
       " 'PHI': 0.5161290322580645,\n",
       " 'BAL': 0.25,\n",
       " 'TOR': 0.43636363636363634,\n",
       " 'LAN': 0.6181818181818182,\n",
       " 'PIT': 0.49107142857142855}"
      ]
     },
     "execution_count": 20,
     "metadata": {},
     "output_type": "execute_result"
    }
   ],
   "source": [
    "win_percents"
   ]
  },
  {
   "cell_type": "code",
   "execution_count": 21,
   "metadata": {},
   "outputs": [
    {
     "data": {
      "text/html": [
       "<div>\n",
       "<style scoped>\n",
       "    .dataframe tbody tr th:only-of-type {\n",
       "        vertical-align: middle;\n",
       "    }\n",
       "\n",
       "    .dataframe tbody tr th {\n",
       "        vertical-align: top;\n",
       "    }\n",
       "\n",
       "    .dataframe thead th {\n",
       "        text-align: right;\n",
       "    }\n",
       "</style>\n",
       "<table border=\"1\" class=\"dataframe\">\n",
       "  <thead>\n",
       "    <tr style=\"text-align: right;\">\n",
       "      <th></th>\n",
       "      <th>date</th>\n",
       "      <th>h_team</th>\n",
       "      <th>h_obp</th>\n",
       "      <th>h_slg</th>\n",
       "      <th>h_k_rate</th>\n",
       "      <th>h_bb_rate</th>\n",
       "      <th>v_team</th>\n",
       "      <th>v_obp</th>\n",
       "      <th>v_slg</th>\n",
       "      <th>v_k_rate</th>\n",
       "      <th>v_bb_rate</th>\n",
       "      <th>home_win</th>\n",
       "    </tr>\n",
       "  </thead>\n",
       "  <tbody>\n",
       "    <tr>\n",
       "      <th>0</th>\n",
       "      <td>20180501</td>\n",
       "      <td>ARI</td>\n",
       "      <td>0.334</td>\n",
       "      <td>0.443</td>\n",
       "      <td>0.236</td>\n",
       "      <td>0.119</td>\n",
       "      <td>LAN</td>\n",
       "      <td>0.335</td>\n",
       "      <td>0.428</td>\n",
       "      <td>0.228</td>\n",
       "      <td>0.103</td>\n",
       "      <td>1</td>\n",
       "    </tr>\n",
       "    <tr>\n",
       "      <th>1</th>\n",
       "      <td>20180501</td>\n",
       "      <td>CHN</td>\n",
       "      <td>0.322</td>\n",
       "      <td>0.411</td>\n",
       "      <td>0.207</td>\n",
       "      <td>0.065</td>\n",
       "      <td>COL</td>\n",
       "      <td>0.336</td>\n",
       "      <td>0.366</td>\n",
       "      <td>0.249</td>\n",
       "      <td>0.110</td>\n",
       "      <td>0</td>\n",
       "    </tr>\n",
       "    <tr>\n",
       "      <th>2</th>\n",
       "      <td>20180501</td>\n",
       "      <td>CIN</td>\n",
       "      <td>0.369</td>\n",
       "      <td>0.434</td>\n",
       "      <td>0.181</td>\n",
       "      <td>0.117</td>\n",
       "      <td>MIL</td>\n",
       "      <td>0.291</td>\n",
       "      <td>0.330</td>\n",
       "      <td>0.209</td>\n",
       "      <td>0.106</td>\n",
       "      <td>0</td>\n",
       "    </tr>\n",
       "    <tr>\n",
       "      <th>3</th>\n",
       "      <td>20180501</td>\n",
       "      <td>MIA</td>\n",
       "      <td>0.308</td>\n",
       "      <td>0.366</td>\n",
       "      <td>0.252</td>\n",
       "      <td>0.087</td>\n",
       "      <td>PHI</td>\n",
       "      <td>0.320</td>\n",
       "      <td>0.373</td>\n",
       "      <td>0.261</td>\n",
       "      <td>0.102</td>\n",
       "      <td>1</td>\n",
       "    </tr>\n",
       "    <tr>\n",
       "      <th>4</th>\n",
       "      <td>20180501</td>\n",
       "      <td>NYN</td>\n",
       "      <td>0.326</td>\n",
       "      <td>0.357</td>\n",
       "      <td>0.206</td>\n",
       "      <td>0.108</td>\n",
       "      <td>ATL</td>\n",
       "      <td>0.341</td>\n",
       "      <td>0.464</td>\n",
       "      <td>0.215</td>\n",
       "      <td>0.088</td>\n",
       "      <td>0</td>\n",
       "    </tr>\n",
       "  </tbody>\n",
       "</table>\n",
       "</div>"
      ],
      "text/plain": [
       "       date h_team  h_obp  h_slg  h_k_rate  h_bb_rate v_team  v_obp  v_slg  \\\n",
       "0  20180501    ARI  0.334  0.443     0.236      0.119    LAN  0.335  0.428   \n",
       "1  20180501    CHN  0.322  0.411     0.207      0.065    COL  0.336  0.366   \n",
       "2  20180501    CIN  0.369  0.434     0.181      0.117    MIL  0.291  0.330   \n",
       "3  20180501    MIA  0.308  0.366     0.252      0.087    PHI  0.320  0.373   \n",
       "4  20180501    NYN  0.326  0.357     0.206      0.108    ATL  0.341  0.464   \n",
       "\n",
       "   v_k_rate  v_bb_rate  home_win  \n",
       "0     0.228      0.103         1  \n",
       "1     0.249      0.110         0  \n",
       "2     0.209      0.106         0  \n",
       "3     0.261      0.102         1  \n",
       "4     0.215      0.088         0  "
      ]
     },
     "execution_count": 21,
     "metadata": {},
     "output_type": "execute_result"
    }
   ],
   "source": [
    "hitting.head()"
   ]
  },
  {
   "cell_type": "code",
   "execution_count": 37,
   "metadata": {},
   "outputs": [
    {
     "data": {
      "text/html": [
       "<div>\n",
       "<style scoped>\n",
       "    .dataframe tbody tr th:only-of-type {\n",
       "        vertical-align: middle;\n",
       "    }\n",
       "\n",
       "    .dataframe tbody tr th {\n",
       "        vertical-align: top;\n",
       "    }\n",
       "\n",
       "    .dataframe thead th {\n",
       "        text-align: right;\n",
       "    }\n",
       "</style>\n",
       "<table border=\"1\" class=\"dataframe\">\n",
       "  <thead>\n",
       "    <tr style=\"text-align: right;\">\n",
       "      <th></th>\n",
       "      <th>#Bat</th>\n",
       "      <th>BatAge</th>\n",
       "      <th>R/G</th>\n",
       "      <th>G</th>\n",
       "      <th>PA</th>\n",
       "      <th>AB</th>\n",
       "      <th>R</th>\n",
       "      <th>H</th>\n",
       "      <th>2B</th>\n",
       "      <th>3B</th>\n",
       "      <th>...</th>\n",
       "      <th>SLG</th>\n",
       "      <th>OPS</th>\n",
       "      <th>OPS+</th>\n",
       "      <th>TB</th>\n",
       "      <th>GDP</th>\n",
       "      <th>HBP</th>\n",
       "      <th>SH</th>\n",
       "      <th>SF</th>\n",
       "      <th>IBB</th>\n",
       "      <th>LOB</th>\n",
       "    </tr>\n",
       "    <tr>\n",
       "      <th>Tm</th>\n",
       "      <th></th>\n",
       "      <th></th>\n",
       "      <th></th>\n",
       "      <th></th>\n",
       "      <th></th>\n",
       "      <th></th>\n",
       "      <th></th>\n",
       "      <th></th>\n",
       "      <th></th>\n",
       "      <th></th>\n",
       "      <th></th>\n",
       "      <th></th>\n",
       "      <th></th>\n",
       "      <th></th>\n",
       "      <th></th>\n",
       "      <th></th>\n",
       "      <th></th>\n",
       "      <th></th>\n",
       "      <th></th>\n",
       "      <th></th>\n",
       "      <th></th>\n",
       "    </tr>\n",
       "  </thead>\n",
       "  <tbody>\n",
       "    <tr>\n",
       "      <th>ARI</th>\n",
       "      <td>49</td>\n",
       "      <td>29.2</td>\n",
       "      <td>4.28</td>\n",
       "      <td>162</td>\n",
       "      <td>6157</td>\n",
       "      <td>5460</td>\n",
       "      <td>693</td>\n",
       "      <td>1283</td>\n",
       "      <td>259</td>\n",
       "      <td>50</td>\n",
       "      <td>...</td>\n",
       "      <td>0.397</td>\n",
       "      <td>0.707</td>\n",
       "      <td>86</td>\n",
       "      <td>2170</td>\n",
       "      <td>110</td>\n",
       "      <td>52</td>\n",
       "      <td>38</td>\n",
       "      <td>45</td>\n",
       "      <td>36</td>\n",
       "      <td>1086</td>\n",
       "    </tr>\n",
       "    <tr>\n",
       "      <th>ATL</th>\n",
       "      <td>58</td>\n",
       "      <td>27.3</td>\n",
       "      <td>4.69</td>\n",
       "      <td>162</td>\n",
       "      <td>6251</td>\n",
       "      <td>5582</td>\n",
       "      <td>759</td>\n",
       "      <td>1433</td>\n",
       "      <td>314</td>\n",
       "      <td>29</td>\n",
       "      <td>...</td>\n",
       "      <td>0.417</td>\n",
       "      <td>0.742</td>\n",
       "      <td>98</td>\n",
       "      <td>2330</td>\n",
       "      <td>99</td>\n",
       "      <td>66</td>\n",
       "      <td>49</td>\n",
       "      <td>43</td>\n",
       "      <td>53</td>\n",
       "      <td>1143</td>\n",
       "    </tr>\n",
       "    <tr>\n",
       "      <th>BAL</th>\n",
       "      <td>56</td>\n",
       "      <td>28.4</td>\n",
       "      <td>3.84</td>\n",
       "      <td>162</td>\n",
       "      <td>6034</td>\n",
       "      <td>5507</td>\n",
       "      <td>622</td>\n",
       "      <td>1317</td>\n",
       "      <td>242</td>\n",
       "      <td>15</td>\n",
       "      <td>...</td>\n",
       "      <td>0.391</td>\n",
       "      <td>0.689</td>\n",
       "      <td>89</td>\n",
       "      <td>2153</td>\n",
       "      <td>132</td>\n",
       "      <td>57</td>\n",
       "      <td>13</td>\n",
       "      <td>35</td>\n",
       "      <td>19</td>\n",
       "      <td>1027</td>\n",
       "    </tr>\n",
       "    <tr>\n",
       "      <th>BOS</th>\n",
       "      <td>44</td>\n",
       "      <td>27.7</td>\n",
       "      <td>5.41</td>\n",
       "      <td>162</td>\n",
       "      <td>6302</td>\n",
       "      <td>5623</td>\n",
       "      <td>876</td>\n",
       "      <td>1509</td>\n",
       "      <td>355</td>\n",
       "      <td>31</td>\n",
       "      <td>...</td>\n",
       "      <td>0.453</td>\n",
       "      <td>0.792</td>\n",
       "      <td>112</td>\n",
       "      <td>2550</td>\n",
       "      <td>130</td>\n",
       "      <td>55</td>\n",
       "      <td>7</td>\n",
       "      <td>48</td>\n",
       "      <td>38</td>\n",
       "      <td>1124</td>\n",
       "    </tr>\n",
       "    <tr>\n",
       "      <th>CHC</th>\n",
       "      <td>50</td>\n",
       "      <td>27.2</td>\n",
       "      <td>4.67</td>\n",
       "      <td>163</td>\n",
       "      <td>6369</td>\n",
       "      <td>5624</td>\n",
       "      <td>761</td>\n",
       "      <td>1453</td>\n",
       "      <td>286</td>\n",
       "      <td>34</td>\n",
       "      <td>...</td>\n",
       "      <td>0.410</td>\n",
       "      <td>0.744</td>\n",
       "      <td>97</td>\n",
       "      <td>2308</td>\n",
       "      <td>107</td>\n",
       "      <td>78</td>\n",
       "      <td>40</td>\n",
       "      <td>46</td>\n",
       "      <td>67</td>\n",
       "      <td>1224</td>\n",
       "    </tr>\n",
       "  </tbody>\n",
       "</table>\n",
       "<p>5 rows × 28 columns</p>\n",
       "</div>"
      ],
      "text/plain": [
       "     #Bat  BatAge   R/G    G    PA    AB    R     H   2B  3B  ...     SLG  \\\n",
       "Tm                                                            ...           \n",
       "ARI    49    29.2  4.28  162  6157  5460  693  1283  259  50  ...   0.397   \n",
       "ATL    58    27.3  4.69  162  6251  5582  759  1433  314  29  ...   0.417   \n",
       "BAL    56    28.4  3.84  162  6034  5507  622  1317  242  15  ...   0.391   \n",
       "BOS    44    27.7  5.41  162  6302  5623  876  1509  355  31  ...   0.453   \n",
       "CHC    50    27.2  4.67  163  6369  5624  761  1453  286  34  ...   0.410   \n",
       "\n",
       "       OPS  OPS+    TB  GDP  HBP  SH  SF  IBB   LOB  \n",
       "Tm                                                   \n",
       "ARI  0.707    86  2170  110   52  38  45   36  1086  \n",
       "ATL  0.742    98  2330   99   66  49  43   53  1143  \n",
       "BAL  0.689    89  2153  132   57  13  35   19  1027  \n",
       "BOS  0.792   112  2550  130   55   7  48   38  1124  \n",
       "CHC  0.744    97  2308  107   78  40  46   67  1224  \n",
       "\n",
       "[5 rows x 28 columns]"
      ]
     },
     "execution_count": 37,
     "metadata": {},
     "output_type": "execute_result"
    }
   ],
   "source": [
    "team_batting_2018 = pd.read_csv('data/2018_team_hitting.txt').set_index('Tm')\n",
    "team_batting_2018.head()"
   ]
  },
  {
   "cell_type": "code",
   "execution_count": 38,
   "metadata": {},
   "outputs": [
    {
     "data": {
      "text/html": [
       "<div>\n",
       "<style scoped>\n",
       "    .dataframe tbody tr th:only-of-type {\n",
       "        vertical-align: middle;\n",
       "    }\n",
       "\n",
       "    .dataframe tbody tr th {\n",
       "        vertical-align: top;\n",
       "    }\n",
       "\n",
       "    .dataframe thead th {\n",
       "        text-align: right;\n",
       "    }\n",
       "</style>\n",
       "<table border=\"1\" class=\"dataframe\">\n",
       "  <thead>\n",
       "    <tr style=\"text-align: right;\">\n",
       "      <th></th>\n",
       "      <th>Rk</th>\n",
       "      <th>Lg</th>\n",
       "      <th>G</th>\n",
       "      <th>W</th>\n",
       "      <th>L</th>\n",
       "      <th>W-L%</th>\n",
       "      <th>R</th>\n",
       "      <th>RA</th>\n",
       "      <th>Rdiff</th>\n",
       "      <th>SOS</th>\n",
       "      <th>...</th>\n",
       "      <th>vWest</th>\n",
       "      <th>Inter</th>\n",
       "      <th>Home</th>\n",
       "      <th>Road</th>\n",
       "      <th>ExInn</th>\n",
       "      <th>1Run</th>\n",
       "      <th>vRHP</th>\n",
       "      <th>vLHP</th>\n",
       "      <th>≥.500</th>\n",
       "      <th>&lt;.500</th>\n",
       "    </tr>\n",
       "    <tr>\n",
       "      <th>Tm</th>\n",
       "      <th></th>\n",
       "      <th></th>\n",
       "      <th></th>\n",
       "      <th></th>\n",
       "      <th></th>\n",
       "      <th></th>\n",
       "      <th></th>\n",
       "      <th></th>\n",
       "      <th></th>\n",
       "      <th></th>\n",
       "      <th></th>\n",
       "      <th></th>\n",
       "      <th></th>\n",
       "      <th></th>\n",
       "      <th></th>\n",
       "      <th></th>\n",
       "      <th></th>\n",
       "      <th></th>\n",
       "      <th></th>\n",
       "      <th></th>\n",
       "      <th></th>\n",
       "    </tr>\n",
       "  </thead>\n",
       "  <tbody>\n",
       "    <tr>\n",
       "      <th>BOS</th>\n",
       "      <td>1.0</td>\n",
       "      <td>AL</td>\n",
       "      <td>162.0</td>\n",
       "      <td>108</td>\n",
       "      <td>54</td>\n",
       "      <td>0.667</td>\n",
       "      <td>5.4</td>\n",
       "      <td>4.0</td>\n",
       "      <td>1.4</td>\n",
       "      <td>-0.2</td>\n",
       "      <td>...</td>\n",
       "      <td>21-12</td>\n",
       "      <td>16-4</td>\n",
       "      <td>57-24</td>\n",
       "      <td>51-30</td>\n",
       "      <td>8-5</td>\n",
       "      <td>25-14</td>\n",
       "      <td>87-38</td>\n",
       "      <td>21-16</td>\n",
       "      <td>41-33</td>\n",
       "      <td>67-21</td>\n",
       "    </tr>\n",
       "    <tr>\n",
       "      <th>HOU</th>\n",
       "      <td>2.0</td>\n",
       "      <td>AL</td>\n",
       "      <td>162.0</td>\n",
       "      <td>103</td>\n",
       "      <td>59</td>\n",
       "      <td>0.636</td>\n",
       "      <td>4.9</td>\n",
       "      <td>3.3</td>\n",
       "      <td>1.6</td>\n",
       "      <td>-0.1</td>\n",
       "      <td>...</td>\n",
       "      <td>46-30</td>\n",
       "      <td>13-7</td>\n",
       "      <td>46-35</td>\n",
       "      <td>57-24</td>\n",
       "      <td>5-6</td>\n",
       "      <td>24-24</td>\n",
       "      <td>66-36</td>\n",
       "      <td>37-23</td>\n",
       "      <td>41-38</td>\n",
       "      <td>62-21</td>\n",
       "    </tr>\n",
       "    <tr>\n",
       "      <th>NYY</th>\n",
       "      <td>3.0</td>\n",
       "      <td>AL</td>\n",
       "      <td>162.0</td>\n",
       "      <td>100</td>\n",
       "      <td>62</td>\n",
       "      <td>0.617</td>\n",
       "      <td>5.3</td>\n",
       "      <td>4.1</td>\n",
       "      <td>1.1</td>\n",
       "      <td>-0.2</td>\n",
       "      <td>...</td>\n",
       "      <td>22-10</td>\n",
       "      <td>11-9</td>\n",
       "      <td>53-28</td>\n",
       "      <td>47-34</td>\n",
       "      <td>9-5</td>\n",
       "      <td>23-17</td>\n",
       "      <td>70-47</td>\n",
       "      <td>30-15</td>\n",
       "      <td>41-30</td>\n",
       "      <td>59-32</td>\n",
       "    </tr>\n",
       "    <tr>\n",
       "      <th>OAK</th>\n",
       "      <td>4.0</td>\n",
       "      <td>AL</td>\n",
       "      <td>162.0</td>\n",
       "      <td>97</td>\n",
       "      <td>65</td>\n",
       "      <td>0.599</td>\n",
       "      <td>5.0</td>\n",
       "      <td>4.2</td>\n",
       "      <td>0.9</td>\n",
       "      <td>0.0</td>\n",
       "      <td>...</td>\n",
       "      <td>38-38</td>\n",
       "      <td>12-8</td>\n",
       "      <td>50-31</td>\n",
       "      <td>47-34</td>\n",
       "      <td>13-6</td>\n",
       "      <td>31-14</td>\n",
       "      <td>65-40</td>\n",
       "      <td>32-25</td>\n",
       "      <td>33-40</td>\n",
       "      <td>64-25</td>\n",
       "    </tr>\n",
       "    <tr>\n",
       "      <th>MIL</th>\n",
       "      <td>5.0</td>\n",
       "      <td>NL</td>\n",
       "      <td>163.0</td>\n",
       "      <td>96</td>\n",
       "      <td>67</td>\n",
       "      <td>0.589</td>\n",
       "      <td>4.6</td>\n",
       "      <td>4.0</td>\n",
       "      <td>0.6</td>\n",
       "      <td>0.0</td>\n",
       "      <td>...</td>\n",
       "      <td>23-10</td>\n",
       "      <td>13-7</td>\n",
       "      <td>51-30</td>\n",
       "      <td>45-37</td>\n",
       "      <td>9-7</td>\n",
       "      <td>33-19</td>\n",
       "      <td>72-48</td>\n",
       "      <td>24-19</td>\n",
       "      <td>49-46</td>\n",
       "      <td>47-21</td>\n",
       "    </tr>\n",
       "  </tbody>\n",
       "</table>\n",
       "<p>5 rows × 25 columns</p>\n",
       "</div>"
      ],
      "text/plain": [
       "      Rk  Lg      G    W   L   W-L%    R   RA  Rdiff  SOS  ...    vWest Inter  \\\n",
       "Tm                                                         ...                  \n",
       "BOS  1.0  AL  162.0  108  54  0.667  5.4  4.0    1.4 -0.2  ...    21-12  16-4   \n",
       "HOU  2.0  AL  162.0  103  59  0.636  4.9  3.3    1.6 -0.1  ...    46-30  13-7   \n",
       "NYY  3.0  AL  162.0  100  62  0.617  5.3  4.1    1.1 -0.2  ...    22-10  11-9   \n",
       "OAK  4.0  AL  162.0   97  65  0.599  5.0  4.2    0.9  0.0  ...    38-38  12-8   \n",
       "MIL  5.0  NL  163.0   96  67  0.589  4.6  4.0    0.6  0.0  ...    23-10  13-7   \n",
       "\n",
       "      Home   Road ExInn   1Run   vRHP   vLHP  ≥.500  <.500  \n",
       "Tm                                                          \n",
       "BOS  57-24  51-30   8-5  25-14  87-38  21-16  41-33  67-21  \n",
       "HOU  46-35  57-24   5-6  24-24  66-36  37-23  41-38  62-21  \n",
       "NYY  53-28  47-34   9-5  23-17  70-47  30-15  41-30  59-32  \n",
       "OAK  50-31  47-34  13-6  31-14  65-40  32-25  33-40  64-25  \n",
       "MIL  51-30  45-37   9-7  33-19  72-48  24-19  49-46  47-21  \n",
       "\n",
       "[5 rows x 25 columns]"
      ]
     },
     "execution_count": 38,
     "metadata": {},
     "output_type": "execute_result"
    }
   ],
   "source": [
    "standings_2018 = pd.read_csv('data/2018_standings.txt', delimiter=',').set_index('Tm')\n",
    "standings_2018.head()"
   ]
  },
  {
   "cell_type": "code",
   "execution_count": 70,
   "metadata": {},
   "outputs": [
    {
     "data": {
      "text/plain": [
       "Index(['date', 'h_team', 'h_sp_name', 'h_sp_obp', 'h_sp_slg', 'h_sp_gb/fb',\n",
       "       'h_sp_ld', 'h_sp_k/bb', 'v_team', 'v_sp_name', 'v_sp_obp', 'v_sp_slg',\n",
       "       'v_sp_gb/fb', 'v_sp_ld', 'v_sp_k/bb', 'h_obp', 'h_slg', 'h_k_rate',\n",
       "       'h_bb_rate', 'v_obp', 'v_slg', 'v_k_rate', 'v_bb_rate', 'home_win'],\n",
       "      dtype='object')"
      ]
     },
     "execution_count": 70,
     "metadata": {},
     "output_type": "execute_result"
    }
   ],
   "source": [
    "data_2018.columns"
   ]
  },
  {
   "cell_type": "code",
   "execution_count": 71,
   "metadata": {},
   "outputs": [
    {
     "data": {
      "text/plain": [
       "Index(['#Bat', 'BatAge', 'R/G', 'G', 'PA', 'AB', 'R', 'H', '2B', '3B', 'HR',\n",
       "       'RBI', 'SB', 'CS', 'BB', 'SO', 'BA', 'OBP', 'SLG', 'OPS', 'OPS+', 'TB',\n",
       "       'GDP', 'HBP', 'SH', 'SF', 'IBB', 'LOB'],\n",
       "      dtype='object')"
      ]
     },
     "execution_count": 71,
     "metadata": {},
     "output_type": "execute_result"
    }
   ],
   "source": [
    "team_batting_2018.columns"
   ]
  },
  {
   "cell_type": "code",
   "execution_count": 42,
   "metadata": {
    "scrolled": true
   },
   "outputs": [
    {
     "data": {
      "text/plain": [
       "Index(['ARI', 'ATL', 'BAL', 'BOS', 'CHC', 'CHW', 'CIN', 'CLE', 'COL', 'DET',\n",
       "       'HOU', 'KCR', 'LAA', 'LAD', 'MIA', 'MIL', 'MIN', 'NYM', 'NYY', 'OAK',\n",
       "       'PHI', 'PIT', 'SDP', 'SEA', 'SFG', 'STL', 'TBR', 'TEX', 'TOR', 'WSN'],\n",
       "      dtype='object', name='Tm')"
      ]
     },
     "execution_count": 42,
     "metadata": {},
     "output_type": "execute_result"
    }
   ],
   "source": [
    "team_batting_2018.index[:-2]"
   ]
  },
  {
   "cell_type": "code",
   "execution_count": 82,
   "metadata": {},
   "outputs": [],
   "source": [
    "perc_list = []\n",
    "stat_list = []\n",
    "for team in team_batting_2018.index[:-2]:\n",
    "    perc_list.append(standings_2018['W-L%'][team])\n",
    "    stat_list.append(team_batting_2018['SLG'][team])"
   ]
  },
  {
   "cell_type": "code",
   "execution_count": 81,
   "metadata": {},
   "outputs": [
    {
     "data": {
      "image/png": "[encoded data removed]",
      "text/plain": [
       "<Figure size 432x432 with 1 Axes>"
      ]
     },
     "metadata": {},
     "output_type": "display_data"
    }
   ],
   "source": [
    "plt.figure(figsize=(6,6))\n",
    "plt.scatter(x=stat_list, y=perc_list, alpha=0.25)\n",
    "plt.scatter(x=stat_list[3], y=perc_list[3], c='r', label='BOS')\n",
    "plt.scatter(x=stat_list[2], y=perc_list[2], c='g', label='BAL')\n",
    "plt.title('2018 Season OBP vs. Win Percentage', fontsize=16)\n",
    "plt.xlabel('OBP', fontsize=14)\n",
    "plt.ylabel('Win %', fontsize=14)\n",
    "plt.tick_params(axis=\"x\", labelsize=12)\n",
    "plt.tick_params(axis=\"y\", labelsize=12)\n",
    "plt.legend(fontsize=14)\n",
    "plt.savefig('graphs/obp_winp')"
   ]
  },
  {
   "cell_type": "code",
   "execution_count": 83,
   "metadata": {},
   "outputs": [
    {
     "data": {
      "image/png": "[encoded data removed]",
      "text/plain": [
       "<Figure size 432x432 with 1 Axes>"
      ]
     },
     "metadata": {},
     "output_type": "display_data"
    }
   ],
   "source": [
    "plt.figure(figsize=(6,6))\n",
    "plt.scatter(x=stat_list, y=perc_list, alpha=0.25)\n",
    "plt.scatter(x=stat_list[3], y=perc_list[3], c='r', label='BOS')\n",
    "plt.scatter(x=stat_list[2], y=perc_list[2], c='g', label='BAL')\n",
    "plt.title('2018 Season SLG vs. Win Percentage', fontsize=16)\n",
    "plt.xlabel('SLG', fontsize=14)\n",
    "plt.ylabel('Win %', fontsize=14)\n",
    "plt.tick_params(axis=\"x\", labelsize=12)\n",
    "plt.tick_params(axis=\"y\", labelsize=12)\n",
    "plt.legend(fontsize=14)\n",
    "plt.savefig('graphs/slg_winp')"
   ]
  },
  {
   "cell_type": "code",
   "execution_count": 85,
   "metadata": {},
   "outputs": [
    {
     "data": {
      "text/html": [
       "<div>\n",
       "<style scoped>\n",
       "    .dataframe tbody tr th:only-of-type {\n",
       "        vertical-align: middle;\n",
       "    }\n",
       "\n",
       "    .dataframe tbody tr th {\n",
       "        vertical-align: top;\n",
       "    }\n",
       "\n",
       "    .dataframe thead th {\n",
       "        text-align: right;\n",
       "    }\n",
       "</style>\n",
       "<table border=\"1\" class=\"dataframe\">\n",
       "  <thead>\n",
       "    <tr style=\"text-align: right;\">\n",
       "      <th></th>\n",
       "      <th>date</th>\n",
       "      <th>h_team</th>\n",
       "      <th>h_sp_name</th>\n",
       "      <th>h_sp_obp</th>\n",
       "      <th>h_sp_slg</th>\n",
       "      <th>h_sp_gb/fb</th>\n",
       "      <th>h_sp_ld</th>\n",
       "      <th>h_sp_k/bb</th>\n",
       "      <th>v_team</th>\n",
       "      <th>v_sp_name</th>\n",
       "      <th>...</th>\n",
       "      <th>v_sp_k/bb</th>\n",
       "      <th>h_obp</th>\n",
       "      <th>h_slg</th>\n",
       "      <th>h_k_rate</th>\n",
       "      <th>h_bb_rate</th>\n",
       "      <th>v_obp</th>\n",
       "      <th>v_slg</th>\n",
       "      <th>v_k_rate</th>\n",
       "      <th>v_bb_rate</th>\n",
       "      <th>home_win</th>\n",
       "    </tr>\n",
       "  </thead>\n",
       "  <tbody>\n",
       "    <tr>\n",
       "      <th>0</th>\n",
       "      <td>20180501</td>\n",
       "      <td>ARI</td>\n",
       "      <td>Matt Koch</td>\n",
       "      <td>0.261</td>\n",
       "      <td>0.429</td>\n",
       "      <td>0.62</td>\n",
       "      <td>0.24</td>\n",
       "      <td>2.0</td>\n",
       "      <td>LAN</td>\n",
       "      <td>Clayton Kershaw</td>\n",
       "      <td>...</td>\n",
       "      <td>3.83</td>\n",
       "      <td>0.334</td>\n",
       "      <td>0.443</td>\n",
       "      <td>0.236</td>\n",
       "      <td>0.119</td>\n",
       "      <td>0.335</td>\n",
       "      <td>0.428</td>\n",
       "      <td>0.228</td>\n",
       "      <td>0.103</td>\n",
       "      <td>1</td>\n",
       "    </tr>\n",
       "    <tr>\n",
       "      <th>1</th>\n",
       "      <td>20180501</td>\n",
       "      <td>CIN</td>\n",
       "      <td>Homer Bailey</td>\n",
       "      <td>0.333</td>\n",
       "      <td>0.706</td>\n",
       "      <td>0.42</td>\n",
       "      <td>0.22</td>\n",
       "      <td>1.8</td>\n",
       "      <td>MIL</td>\n",
       "      <td>Chase Anderson</td>\n",
       "      <td>...</td>\n",
       "      <td>2.00</td>\n",
       "      <td>0.369</td>\n",
       "      <td>0.434</td>\n",
       "      <td>0.181</td>\n",
       "      <td>0.117</td>\n",
       "      <td>0.291</td>\n",
       "      <td>0.330</td>\n",
       "      <td>0.209</td>\n",
       "      <td>0.106</td>\n",
       "      <td>0</td>\n",
       "    </tr>\n",
       "    <tr>\n",
       "      <th>2</th>\n",
       "      <td>20180501</td>\n",
       "      <td>SLN</td>\n",
       "      <td>Michael Wacha</td>\n",
       "      <td>0.265</td>\n",
       "      <td>0.239</td>\n",
       "      <td>0.44</td>\n",
       "      <td>0.36</td>\n",
       "      <td>5.5</td>\n",
       "      <td>CHA</td>\n",
       "      <td>James Shields</td>\n",
       "      <td>...</td>\n",
       "      <td>0.80</td>\n",
       "      <td>0.308</td>\n",
       "      <td>0.359</td>\n",
       "      <td>0.211</td>\n",
       "      <td>0.096</td>\n",
       "      <td>0.318</td>\n",
       "      <td>0.472</td>\n",
       "      <td>0.217</td>\n",
       "      <td>0.056</td>\n",
       "      <td>1</td>\n",
       "    </tr>\n",
       "    <tr>\n",
       "      <th>3</th>\n",
       "      <td>20180501</td>\n",
       "      <td>WAS</td>\n",
       "      <td>Max Scherzer</td>\n",
       "      <td>0.243</td>\n",
       "      <td>0.424</td>\n",
       "      <td>0.37</td>\n",
       "      <td>0.20</td>\n",
       "      <td>5.0</td>\n",
       "      <td>PIT</td>\n",
       "      <td>Chad Kuhl</td>\n",
       "      <td>...</td>\n",
       "      <td>2.80</td>\n",
       "      <td>0.336</td>\n",
       "      <td>0.378</td>\n",
       "      <td>0.198</td>\n",
       "      <td>0.112</td>\n",
       "      <td>0.342</td>\n",
       "      <td>0.387</td>\n",
       "      <td>0.197</td>\n",
       "      <td>0.102</td>\n",
       "      <td>1</td>\n",
       "    </tr>\n",
       "    <tr>\n",
       "      <th>4</th>\n",
       "      <td>20180501</td>\n",
       "      <td>ANA</td>\n",
       "      <td>Nick Tropeano</td>\n",
       "      <td>0.378</td>\n",
       "      <td>0.744</td>\n",
       "      <td>0.39</td>\n",
       "      <td>0.23</td>\n",
       "      <td>1.8</td>\n",
       "      <td>BAL</td>\n",
       "      <td>Alex Cobb</td>\n",
       "      <td>...</td>\n",
       "      <td>1.33</td>\n",
       "      <td>0.246</td>\n",
       "      <td>0.323</td>\n",
       "      <td>0.255</td>\n",
       "      <td>0.080</td>\n",
       "      <td>0.312</td>\n",
       "      <td>0.447</td>\n",
       "      <td>0.207</td>\n",
       "      <td>0.077</td>\n",
       "      <td>1</td>\n",
       "    </tr>\n",
       "  </tbody>\n",
       "</table>\n",
       "<p>5 rows × 24 columns</p>\n",
       "</div>"
      ],
      "text/plain": [
       "       date h_team      h_sp_name  h_sp_obp  h_sp_slg  h_sp_gb/fb  h_sp_ld  \\\n",
       "0  20180501    ARI      Matt Koch     0.261     0.429        0.62     0.24   \n",
       "1  20180501    CIN   Homer Bailey     0.333     0.706        0.42     0.22   \n",
       "2  20180501    SLN  Michael Wacha     0.265     0.239        0.44     0.36   \n",
       "3  20180501    WAS   Max Scherzer     0.243     0.424        0.37     0.20   \n",
       "4  20180501    ANA  Nick Tropeano     0.378     0.744        0.39     0.23   \n",
       "\n",
       "   h_sp_k/bb v_team        v_sp_name    ...     v_sp_k/bb  h_obp  h_slg  \\\n",
       "0        2.0    LAN  Clayton Kershaw    ...          3.83  0.334  0.443   \n",
       "1        1.8    MIL   Chase Anderson    ...          2.00  0.369  0.434   \n",
       "2        5.5    CHA    James Shields    ...          0.80  0.308  0.359   \n",
       "3        5.0    PIT        Chad Kuhl    ...          2.80  0.336  0.378   \n",
       "4        1.8    BAL        Alex Cobb    ...          1.33  0.246  0.323   \n",
       "\n",
       "   h_k_rate  h_bb_rate  v_obp  v_slg  v_k_rate  v_bb_rate  home_win  \n",
       "0     0.236      0.119  0.335  0.428     0.228      0.103         1  \n",
       "1     0.181      0.117  0.291  0.330     0.209      0.106         0  \n",
       "2     0.211      0.096  0.318  0.472     0.217      0.056         1  \n",
       "3     0.198      0.112  0.342  0.387     0.197      0.102         1  \n",
       "4     0.255      0.080  0.312  0.447     0.207      0.077         1  \n",
       "\n",
       "[5 rows x 24 columns]"
      ]
     },
     "execution_count": 85,
     "metadata": {},
     "output_type": "execute_result"
    }
   ],
   "source": [
    "data_2018 = data_2018.reset_index(drop=True)\n",
    "data_2018.head()"
   ]
  },
  {
   "cell_type": "code",
   "execution_count": 86,
   "metadata": {
    "scrolled": true
   },
   "outputs": [
    {
     "data": {
      "text/plain": [
       "date                 20180501\n",
       "h_team                    ARI\n",
       "h_sp_name           Matt Koch\n",
       "h_sp_obp                0.261\n",
       "h_sp_slg                0.429\n",
       "h_sp_gb/fb               0.62\n",
       "h_sp_ld                  0.24\n",
       "h_sp_k/bb                   2\n",
       "v_team                    LAN\n",
       "v_sp_name     Clayton Kershaw\n",
       "v_sp_obp                0.278\n",
       "v_sp_slg                0.466\n",
       "v_sp_gb/fb               0.54\n",
       "v_sp_ld                  0.21\n",
       "v_sp_k/bb                3.83\n",
       "h_obp                   0.334\n",
       "h_slg                   0.443\n",
       "h_k_rate                0.236\n",
       "h_bb_rate               0.119\n",
       "v_obp                   0.335\n",
       "v_slg                   0.428\n",
       "v_k_rate                0.228\n",
       "v_bb_rate               0.103\n",
       "home_win                    1\n",
       "Name: 0, dtype: object"
      ]
     },
     "execution_count": 86,
     "metadata": {},
     "output_type": "execute_result"
    }
   ],
   "source": [
    "data_2018.iloc[0]"
   ]
  },
  {
   "cell_type": "code",
   "execution_count": 120,
   "metadata": {},
   "outputs": [
    {
     "data": {
      "text/html": [
       "<div>\n",
       "<style scoped>\n",
       "    .dataframe tbody tr th:only-of-type {\n",
       "        vertical-align: middle;\n",
       "    }\n",
       "\n",
       "    .dataframe tbody tr th {\n",
       "        vertical-align: top;\n",
       "    }\n",
       "\n",
       "    .dataframe thead th {\n",
       "        text-align: right;\n",
       "    }\n",
       "</style>\n",
       "<table border=\"1\" class=\"dataframe\">\n",
       "  <thead>\n",
       "    <tr style=\"text-align: right;\">\n",
       "      <th></th>\n",
       "      <th>date</th>\n",
       "      <th>h_team</th>\n",
       "      <th>h_sp_name</th>\n",
       "      <th>h_sp_obp</th>\n",
       "      <th>h_sp_slg</th>\n",
       "      <th>h_sp_gb/fb</th>\n",
       "      <th>h_sp_ld</th>\n",
       "      <th>h_sp_k/bb</th>\n",
       "      <th>v_team</th>\n",
       "      <th>v_sp_name</th>\n",
       "      <th>...</th>\n",
       "      <th>v_sp_k/bb</th>\n",
       "      <th>h_obp</th>\n",
       "      <th>h_slg</th>\n",
       "      <th>h_k_rate</th>\n",
       "      <th>h_bb_rate</th>\n",
       "      <th>v_obp</th>\n",
       "      <th>v_slg</th>\n",
       "      <th>v_k_rate</th>\n",
       "      <th>v_bb_rate</th>\n",
       "      <th>home_win</th>\n",
       "    </tr>\n",
       "  </thead>\n",
       "  <tbody>\n",
       "    <tr>\n",
       "      <th>0</th>\n",
       "      <td>20170501</td>\n",
       "      <td>ATL</td>\n",
       "      <td>Julio Teheran</td>\n",
       "      <td>0.352</td>\n",
       "      <td>0.343</td>\n",
       "      <td>0.33</td>\n",
       "      <td>0.23</td>\n",
       "      <td>1.47</td>\n",
       "      <td>NYN</td>\n",
       "      <td>Robert Gsellman</td>\n",
       "      <td>...</td>\n",
       "      <td>2.44</td>\n",
       "      <td>0.330</td>\n",
       "      <td>0.411</td>\n",
       "      <td>0.203</td>\n",
       "      <td>0.079</td>\n",
       "      <td>0.286</td>\n",
       "      <td>0.396</td>\n",
       "      <td>0.187</td>\n",
       "      <td>0.087</td>\n",
       "      <td>0</td>\n",
       "    </tr>\n",
       "    <tr>\n",
       "      <th>1</th>\n",
       "      <td>20170501</td>\n",
       "      <td>CIN</td>\n",
       "      <td>Amir Garrett</td>\n",
       "      <td>0.309</td>\n",
       "      <td>0.523</td>\n",
       "      <td>0.51</td>\n",
       "      <td>0.21</td>\n",
       "      <td>3.14</td>\n",
       "      <td>PIT</td>\n",
       "      <td>Gerrit Cole</td>\n",
       "      <td>...</td>\n",
       "      <td>4.50</td>\n",
       "      <td>0.303</td>\n",
       "      <td>0.425</td>\n",
       "      <td>0.239</td>\n",
       "      <td>0.086</td>\n",
       "      <td>0.349</td>\n",
       "      <td>0.426</td>\n",
       "      <td>0.182</td>\n",
       "      <td>0.124</td>\n",
       "      <td>1</td>\n",
       "    </tr>\n",
       "    <tr>\n",
       "      <th>2</th>\n",
       "      <td>20170501</td>\n",
       "      <td>LAN</td>\n",
       "      <td>Clayton Kershaw</td>\n",
       "      <td>0.209</td>\n",
       "      <td>0.415</td>\n",
       "      <td>0.45</td>\n",
       "      <td>0.23</td>\n",
       "      <td>13.00</td>\n",
       "      <td>SFN</td>\n",
       "      <td>Johnny Cueto</td>\n",
       "      <td>...</td>\n",
       "      <td>2.40</td>\n",
       "      <td>0.327</td>\n",
       "      <td>0.425</td>\n",
       "      <td>0.186</td>\n",
       "      <td>0.089</td>\n",
       "      <td>0.284</td>\n",
       "      <td>0.303</td>\n",
       "      <td>0.184</td>\n",
       "      <td>0.069</td>\n",
       "      <td>0</td>\n",
       "    </tr>\n",
       "    <tr>\n",
       "      <th>3</th>\n",
       "      <td>20170501</td>\n",
       "      <td>MIA</td>\n",
       "      <td>Wei-Yin Chen</td>\n",
       "      <td>0.307</td>\n",
       "      <td>0.488</td>\n",
       "      <td>0.35</td>\n",
       "      <td>0.28</td>\n",
       "      <td>2.60</td>\n",
       "      <td>TBA</td>\n",
       "      <td>Jake Odorizzi</td>\n",
       "      <td>...</td>\n",
       "      <td>2.67</td>\n",
       "      <td>0.306</td>\n",
       "      <td>0.411</td>\n",
       "      <td>0.174</td>\n",
       "      <td>0.050</td>\n",
       "      <td>0.323</td>\n",
       "      <td>0.415</td>\n",
       "      <td>0.230</td>\n",
       "      <td>0.102</td>\n",
       "      <td>0</td>\n",
       "    </tr>\n",
       "    <tr>\n",
       "      <th>4</th>\n",
       "      <td>20170501</td>\n",
       "      <td>SLN</td>\n",
       "      <td>Michael Wacha</td>\n",
       "      <td>0.286</td>\n",
       "      <td>0.484</td>\n",
       "      <td>0.38</td>\n",
       "      <td>0.29</td>\n",
       "      <td>3.83</td>\n",
       "      <td>MIL</td>\n",
       "      <td>Zach Davies</td>\n",
       "      <td>...</td>\n",
       "      <td>2.00</td>\n",
       "      <td>0.384</td>\n",
       "      <td>0.503</td>\n",
       "      <td>0.183</td>\n",
       "      <td>0.112</td>\n",
       "      <td>0.339</td>\n",
       "      <td>0.472</td>\n",
       "      <td>0.245</td>\n",
       "      <td>0.111</td>\n",
       "      <td>0</td>\n",
       "    </tr>\n",
       "  </tbody>\n",
       "</table>\n",
       "<p>5 rows × 24 columns</p>\n",
       "</div>"
      ],
      "text/plain": [
       "       date h_team        h_sp_name  h_sp_obp  h_sp_slg  h_sp_gb/fb  h_sp_ld  \\\n",
       "0  20170501    ATL    Julio Teheran     0.352     0.343        0.33     0.23   \n",
       "1  20170501    CIN     Amir Garrett     0.309     0.523        0.51     0.21   \n",
       "2  20170501    LAN  Clayton Kershaw     0.209     0.415        0.45     0.23   \n",
       "3  20170501    MIA     Wei-Yin Chen     0.307     0.488        0.35     0.28   \n",
       "4  20170501    SLN    Michael Wacha     0.286     0.484        0.38     0.29   \n",
       "\n",
       "   h_sp_k/bb v_team        v_sp_name    ...     v_sp_k/bb  h_obp  h_slg  \\\n",
       "0       1.47    NYN  Robert Gsellman    ...          2.44  0.330  0.411   \n",
       "1       3.14    PIT      Gerrit Cole    ...          4.50  0.303  0.425   \n",
       "2      13.00    SFN     Johnny Cueto    ...          2.40  0.327  0.425   \n",
       "3       2.60    TBA    Jake Odorizzi    ...          2.67  0.306  0.411   \n",
       "4       3.83    MIL      Zach Davies    ...          2.00  0.384  0.503   \n",
       "\n",
       "   h_k_rate  h_bb_rate  v_obp  v_slg  v_k_rate  v_bb_rate  home_win  \n",
       "0     0.203      0.079  0.286  0.396     0.187      0.087         0  \n",
       "1     0.239      0.086  0.349  0.426     0.182      0.124         1  \n",
       "2     0.186      0.089  0.284  0.303     0.184      0.069         0  \n",
       "3     0.174      0.050  0.323  0.415     0.230      0.102         0  \n",
       "4     0.183      0.112  0.339  0.472     0.245      0.111         0  \n",
       "\n",
       "[5 rows x 24 columns]"
      ]
     },
     "execution_count": 120,
     "metadata": {},
     "output_type": "execute_result"
    }
   ],
   "source": [
    "data_2017 = pd.read_csv('data/data_2017.csv')\n",
    "data_2017.head()"
   ]
  },
  {
   "cell_type": "code",
   "execution_count": 3,
   "metadata": {},
   "outputs": [],
   "source": [
    "final_data = pd.read_csv('data/final_data.csv')"
   ]
  },
  {
   "cell_type": "code",
   "execution_count": 4,
   "metadata": {},
   "outputs": [],
   "source": [
    "win_sp_obp = []\n",
    "win_sp_slg = []\n",
    "lose_sp_obp = []\n",
    "lose_sp_slg = []\n",
    "for i in range(final_data.shape[0]):\n",
    "    game = final_data.iloc[i]\n",
    "    if game['home_win']==1:\n",
    "        win_sp_obp.append(game['h_sp_obp'])\n",
    "        win_sp_slg.append(game['h_sp_slg'])\n",
    "        lose_sp_obp.append(game['v_sp_obp'])\n",
    "        lose_sp_slg.append(game['v_sp_slg'])\n",
    "    else:\n",
    "        win_sp_obp.append(game['v_sp_obp'])\n",
    "        win_sp_slg.append(game['v_sp_slg'])\n",
    "        lose_sp_obp.append(game['h_sp_obp'])\n",
    "        lose_sp_slg.append(game['h_sp_slg'])"
   ]
  },
  {
   "cell_type": "code",
   "execution_count": 101,
   "metadata": {},
   "outputs": [
    {
     "data": {
      "text/plain": [
       "(array([  2.,   6.,  10.,  20.,  29.,  43.,  73., 111., 161., 152., 179.,\n",
       "        186., 152., 149., 109.,  81.,  52.,  34.,  19.,  18.,  12.,   6.,\n",
       "          7.,   0.,   1.,   0.,   0.,   0.,   1.,   2.]),\n",
       " array([0.1   , 0.1189, 0.1378, 0.1567, 0.1756, 0.1945, 0.2134, 0.2323,\n",
       "        0.2512, 0.2701, 0.289 , 0.3079, 0.3268, 0.3457, 0.3646, 0.3835,\n",
       "        0.4024, 0.4213, 0.4402, 0.4591, 0.478 , 0.4969, 0.5158, 0.5347,\n",
       "        0.5536, 0.5725, 0.5914, 0.6103, 0.6292, 0.6481, 0.667 ]),\n",
       " <a list of 30 Patch objects>)"
      ]
     },
     "execution_count": 101,
     "metadata": {},
     "output_type": "execute_result"
    },
    {
     "data": {
      "image/png": "[encoded data removed]",
      "text/plain": [
       "<Figure size 432x288 with 1 Axes>"
      ]
     },
     "metadata": {},
     "output_type": "display_data"
    }
   ],
   "source": [
    "plt.hist(win_sp_obp, color='blue', bins=30)"
   ]
  },
  {
   "cell_type": "code",
   "execution_count": 5,
   "metadata": {},
   "outputs": [],
   "source": [
    "import seaborn as sns"
   ]
  },
  {
   "cell_type": "code",
   "execution_count": 18,
   "metadata": {},
   "outputs": [
    {
     "data": {
      "image/png": "[encoded data removed]",
      "text/plain": [
       "<Figure size 576x360 with 1 Axes>"
      ]
     },
     "metadata": {},
     "output_type": "display_data"
    }
   ],
   "source": [
    "plt.figure(figsize=(8,5))\n",
    "sns.distplot(win_sp_obp, hist = False, kde = True,\n",
    "                 kde_kws = {'shade': True, 'linewidth': 2}, \n",
    "                  label = 'W')\n",
    "sns.distplot(lose_sp_obp, hist = False, kde = True,\n",
    "                 kde_kws = {'shade': True, 'linewidth': 2}, \n",
    "                  label = 'L')\n",
    "plt.title('Rolling 30-Day SP Opposing OBP', fontsize=16)\n",
    "plt.xlabel('Opposing OBP', fontsize=14)\n",
    "plt.ylabel('Density', fontsize=14)\n",
    "plt.tick_params(axis=\"x\", labelsize=12)\n",
    "plt.tick_params(axis=\"y\", labelsize=12)\n",
    "plt.savefig('report/graphs/sp_obp')"
   ]
  },
  {
   "cell_type": "code",
   "execution_count": 16,
   "metadata": {},
   "outputs": [
    {
     "data": {
      "image/png": "[encoded data removed]",
      "text/plain": [
       "<Figure size 576x360 with 1 Axes>"
      ]
     },
     "metadata": {},
     "output_type": "display_data"
    }
   ],
   "source": [
    "plt.figure(figsize=(8,5))\n",
    "sns.distplot(win_sp_slg, hist = False, kde = True,\n",
    "                 kde_kws = {'shade': True, 'linewidth': 2}, \n",
    "                  label = 'W')\n",
    "sns.distplot(lose_sp_slg, hist = False, kde = True,\n",
    "                 kde_kws = {'shade': True, 'linewidth': 2}, \n",
    "                  label = 'L')\n",
    "plt.title('Rolling 30-Day SP Opposing SLG', fontsize=16)\n",
    "plt.xlabel('Opposing SLG', fontsize=14)\n",
    "plt.ylabel('Density', fontsize=14)\n",
    "plt.tick_params(axis=\"x\", labelsize=12)\n",
    "plt.tick_params(axis=\"y\", labelsize=12)\n",
    "plt.savefig('report/graphs/sp_slg')"
   ]
  },
  {
   "cell_type": "code",
   "execution_count": 8,
   "metadata": {},
   "outputs": [],
   "source": [
    "win_sp_kbb = []\n",
    "lose_sp_kbb = []\n",
    "# GOING TO PLOT DISTRIBUTION FOR K-to-BB RATIO ----------------\n",
    "for i in range(final_data.shape[0]):\n",
    "    game = final_data.iloc[i]\n",
    "    if game['home_win']==1:\n",
    "        win_sp_kbb.append(game['h_sp_k/bb'])\n",
    "        lose_sp_kbb.append(game['v_sp_k/bb'])\n",
    "    else:\n",
    "        win_sp_kbb.append(game['v_sp_k/bb'])\n",
    "        lose_sp_kbb.append(game['h_sp_k/bb'])"
   ]
  },
  {
   "cell_type": "code",
   "execution_count": 17,
   "metadata": {},
   "outputs": [
    {
     "data": {
      "image/png": "[encoded data removed]",
      "text/plain": [
       "<Figure size 576x360 with 1 Axes>"
      ]
     },
     "metadata": {},
     "output_type": "display_data"
    }
   ],
   "source": [
    "plt.figure(figsize=(8,5))\n",
    "sns.distplot(win_sp_kbb, hist = False, kde = True,\n",
    "                 kde_kws = {'shade': True, 'linewidth': 2}, \n",
    "                  label = 'W')\n",
    "sns.distplot(lose_sp_kbb, hist = False, kde = True,\n",
    "                 kde_kws = {'shade': True, 'linewidth': 2}, \n",
    "                  label = 'L')\n",
    "plt.title('Rolling 30-Day SO/W Ratio', fontsize=16)\n",
    "plt.xlabel('SO/W Ratio', fontsize=14)\n",
    "plt.ylabel('Density', fontsize=14)\n",
    "plt.tick_params(axis=\"x\", labelsize=12)\n",
    "plt.tick_params(axis=\"y\", labelsize=12)"
   ]
  },
  {
   "cell_type": "code",
   "execution_count": 52,
   "metadata": {},
   "outputs": [
    {
     "data": {
      "image/png": "[encoded data removed]",
      "text/plain": [
       "<Figure size 720x432 with 1 Axes>"
      ]
     },
     "metadata": {},
     "output_type": "display_data"
    }
   ],
   "source": [
    "y = perc_list\n",
    "x = stat_list\n",
    "n = list(team_batting_2018.index[:-2])\n",
    "\n",
    "fig, ax = plt.subplots(figsize=(10,6))\n",
    "ax.scatter(x, y)\n",
    "\n",
    "for i, txt in enumerate(n):\n",
    "    ax.annotate(txt, (x[i], y[i]))"
   ]
  },
  {
   "cell_type": "markdown",
   "metadata": {},
   "source": [
    "home team wins slightly more of the time, we don't have much class imbalance which is great"
   ]
  },
  {
   "cell_type": "code",
   "execution_count": 41,
   "metadata": {},
   "outputs": [
    {
     "data": {
      "text/plain": [
       "1    0.531269\n",
       "0    0.468731\n",
       "Name: home_win, dtype: float64"
      ]
     },
     "execution_count": 41,
     "metadata": {},
     "output_type": "execute_result"
    }
   ],
   "source": [
    "data_2018['home_win'].value_counts(normalize=True)"
   ]
  },
  {
   "cell_type": "code",
   "execution_count": 42,
   "metadata": {},
   "outputs": [
    {
     "data": {
      "text/plain": [
       "Index(['date', 'h_team', 'h_obp', 'h_slg', 'h_k_rate', 'h_bb_rate', 'v_team',\n",
       "       'v_obp', 'v_slg', 'v_k_rate', 'v_bb_rate', 'home_win'],\n",
       "      dtype='object')"
      ]
     },
     "execution_count": 42,
     "metadata": {},
     "output_type": "execute_result"
    }
   ],
   "source": [
    "hitting.columns"
   ]
  },
  {
   "cell_type": "code",
   "execution_count": 46,
   "metadata": {},
   "outputs": [
    {
     "data": {
      "text/plain": [
       "array(['ARI', 'CHN', 'CIN', 'MIA', 'NYN', 'SFN', 'SLN', 'WAS', 'ANA',\n",
       "       'BOS', 'CLE', 'DET', 'HOU', 'MIN', 'SEA', 'CHA', 'KCA', 'TEX',\n",
       "       'ATL', 'MIL', 'SDN', 'NYA', 'OAK', 'TBA', 'PHI', 'COL', 'LAN',\n",
       "       'BAL', 'TOR', 'PIT'], dtype=object)"
      ]
     },
     "execution_count": 46,
     "metadata": {},
     "output_type": "execute_result"
    }
   ],
   "source": [
    "hitting['h_team'].unique()"
   ]
  },
  {
   "cell_type": "code",
   "execution_count": 47,
   "metadata": {},
   "outputs": [],
   "source": [
    "team_obp = {}\n",
    "team_slg = {}\n",
    "for team in hitting['h_team'].unique():\n",
    "    team_row = ((data_2018['h_team'] == team) | (data_2018['v_team'] == team))\n",
    "    team_data = data_2018.loc[team_row,:]\n",
    "    obp = []\n",
    "    slg = []\n",
    "    for i in range(team_data.shape[0]):\n",
    "        if team_data.iloc[i]['h_team'] == team:\n",
    "            obp.append(team_data.iloc[i]['h_obp'])\n",
    "            slg.append(team_data.iloc[i]['h_slg'])\n",
    "        else:\n",
    "            obp.append(team_data.iloc[i]['v_obp'])\n",
    "            slg.append(team_data.iloc[i]['v_slg'])\n",
    "    team_obp[team] = obp\n",
    "    team_slg[team] = slg"
   ]
  },
  {
   "cell_type": "code",
   "execution_count": 102,
   "metadata": {},
   "outputs": [
    {
     "data": {
      "image/png": "[encoded data removed]",
      "text/plain": [
       "<Figure size 1008x504 with 1 Axes>"
      ]
     },
     "metadata": {
      "needs_background": "light"
     },
     "output_type": "display_data"
    }
   ],
   "source": [
    "plt.figure(figsize=(14,7))\n",
    "for team in ['NYA','BOS','BAL','KCA']:\n",
    "    plt.plot(team_obp[team], label=team)\n",
    "plt.legend()\n",
    "plt.title('10-Game Rolling Window for On-Base Percentage')\n",
    "plt.xlabel('Game #')\n",
    "plt.ylabel('OBP')\n",
    "plt.savefig('pics/team_obp')"
   ]
  },
  {
   "cell_type": "code",
   "execution_count": 103,
   "metadata": {},
   "outputs": [
    {
     "data": {
      "image/png": "[encoded data removed]",
      "text/plain": [
       "<Figure size 1008x504 with 1 Axes>"
      ]
     },
     "metadata": {
      "needs_background": "light"
     },
     "output_type": "display_data"
    }
   ],
   "source": [
    "plt.figure(figsize=(14,7))\n",
    "for team in ['NYA','BOS','BAL','KCA']:\n",
    "    plt.plot(team_slg[team], label=team)\n",
    "plt.legend()\n",
    "plt.title('10-Game Rolling Window for Slugging Percentage')\n",
    "plt.xlabel('Game #')\n",
    "plt.ylabel('SLG')\n",
    "plt.savefig('pics/team_slg')"
   ]
  },
  {
   "cell_type": "markdown",
   "metadata": {},
   "source": [
    "models to try:\n",
    "\n",
    "- logistic regression\n",
    "- random forest classifier\n",
    "- xgboost classifier"
   ]
  },
  {
   "cell_type": "code",
   "execution_count": 10,
   "metadata": {},
   "outputs": [
    {
     "data": {
      "text/plain": [
       "Index(['date', 'h_team', 'h_sp_name', 'h_sp_obp', 'h_sp_slg', 'h_sp_gb/fb',\n",
       "       'h_sp_ld', 'h_sp_k/bb', 'v_team', 'v_sp_name', 'v_sp_obp', 'v_sp_slg',\n",
       "       'v_sp_gb/fb', 'v_sp_ld', 'v_sp_k/bb', 'h_obp', 'h_slg', 'h_k_rate',\n",
       "       'h_bb_rate', 'v_obp', 'v_slg', 'v_k_rate', 'v_bb_rate', 'home_win'],\n",
       "      dtype='object')"
      ]
     },
     "execution_count": 10,
     "metadata": {},
     "output_type": "execute_result"
    }
   ],
   "source": [
    "final_data.columns"
   ]
  },
  {
   "cell_type": "code",
   "execution_count": 11,
   "metadata": {},
   "outputs": [
    {
     "data": {
      "text/plain": [
       "1    0.535746\n",
       "0    0.464254\n",
       "Name: home_win, dtype: float64"
      ]
     },
     "execution_count": 11,
     "metadata": {},
     "output_type": "execute_result"
    }
   ],
   "source": [
    "final_data['home_win'].value_counts(normalize=True)"
   ]
  },
  {
   "cell_type": "code",
   "execution_count": 19,
   "metadata": {},
   "outputs": [],
   "source": [
    "from sklearn.model_selection import train_test_split\n",
    "# LEFT OFF HEREEEEEEEEEEEEEEE --------------------\n",
    "x_col = ['h_sp_obp', 'h_sp_slg', 'h_sp_gb/fb',\n",
    "         'h_sp_ld', 'h_sp_k/bb', 'v_sp_obp', 'v_sp_slg',\n",
    "         'v_sp_gb/fb', 'v_sp_ld', 'v_sp_k/bb', 'h_obp', 'h_slg', 'h_k_rate',\n",
    "         'h_bb_rate', 'v_obp', 'v_slg', 'v_k_rate', 'v_bb_rate']\n",
    "\n",
    "X = final_data[x_col]\n",
    "y = final_data['home_win']\n",
    "\n",
    "X_train, X_test, y_train, y_test = train_test_split(X, y, test_size=0.25, random_state=42)"
   ]
  },
  {
   "cell_type": "code",
   "execution_count": 20,
   "metadata": {},
   "outputs": [],
   "source": [
    "from sklearn.linear_model import LogisticRegression\n",
    "from sklearn.ensemble import RandomForestClassifier\n",
    "from sklearn.metrics import roc_auc_score"
   ]
  },
  {
   "cell_type": "code",
   "execution_count": 21,
   "metadata": {},
   "outputs": [
    {
     "name": "stdout",
     "output_type": "stream",
     "text": [
      "LR (train) : 0.5777061500165019\n",
      "LR (test) : 0.5605280814211542\n",
      "RF (train) : 0.7961875506931912\n",
      "RF (test) : 0.5682098287554578\n"
     ]
    }
   ],
   "source": [
    "lr_clf = LogisticRegression(random_state=42).fit(X_train, y_train)\n",
    "rf_clf = RandomForestClassifier(n_estimators=100, max_depth=6, random_state=42).fit(X_train, y_train)\n",
    "\n",
    "lr_predict = lr_clf.predict_proba(X_test)[:,1]\n",
    "lr_predict_train = lr_clf.predict_proba(X_train)[:,1]\n",
    "rf_predict = rf_clf.predict_proba(X_test)[:,1]\n",
    "rf_predict_train = rf_clf.predict_proba(X_train)[:,1]\n",
    "\n",
    "print('LR (train) : {}'.format(roc_auc_score(y_train, lr_predict_train)))\n",
    "print('LR (test) : {}'.format(roc_auc_score(y_test, lr_predict)))\n",
    "print('RF (train) : {}'.format(roc_auc_score(y_train, rf_predict_train)))\n",
    "print('RF (test) : {}'.format(roc_auc_score(y_test, rf_predict)))"
   ]
  },
  {
   "cell_type": "code",
   "execution_count": 23,
   "metadata": {},
   "outputs": [],
   "source": [
    "from sklearn.metrics import accuracy_score"
   ]
  },
  {
   "cell_type": "code",
   "execution_count": 24,
   "metadata": {},
   "outputs": [
    {
     "name": "stdout",
     "output_type": "stream",
     "text": [
      "LR (train) : 0.5610513739545998\n",
      "LR (test) : 0.5565902578796562\n",
      "RF (train) : 0.7037037037037037\n",
      "RF (test) : 0.5594555873925502\n"
     ]
    }
   ],
   "source": [
    "lr_pred = lr_clf.predict(X_test)\n",
    "lr_pred_train = lr_clf.predict(X_train)\n",
    "rf_pred = rf_clf.predict(X_test)\n",
    "rf_pred_train = rf_clf.predict(X_train)\n",
    "\n",
    "print('LR (train) : {}'.format(accuracy_score(y_train, lr_pred_train)))\n",
    "print('LR (test) : {}'.format(accuracy_score(y_test, lr_pred)))\n",
    "print('RF (train) : {}'.format(accuracy_score(y_train, rf_pred_train)))\n",
    "print('RF (test) : {}'.format(accuracy_score(y_test, rf_pred)))"
   ]
  },
  {
   "cell_type": "code",
   "execution_count": null,
   "metadata": {},
   "outputs": [],
   "source": []
  }
 ],
 "metadata": {
  "kernelspec": {
   "display_name": "Python 3",
   "language": "python",
   "name": "python3"
  },
  "language_info": {
   "codemirror_mode": {
    "name": "ipython",
    "version": 3
   },
   "file_extension": ".py",
   "mimetype": "text/x-python",
   "name": "python",
   "nbconvert_exporter": "python",
   "pygments_lexer": "ipython3",
   "version": "3.6.5"
  }
 },
 "nbformat": 4,
 "nbformat_minor": 2
}
