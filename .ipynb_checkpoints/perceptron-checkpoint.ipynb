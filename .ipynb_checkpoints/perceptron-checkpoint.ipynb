{
 "cells": [
  {
   "cell_type": "code",
   "execution_count": 7,
   "metadata": {},
   "outputs": [],
   "source": [
    "import pandas as pd\n",
    "import numpy as nps"
   ]
  },
  {
   "cell_type": "code",
   "execution_count": 2,
   "metadata": {},
   "outputs": [],
   "source": [
    "data_2018 = pd.read_csv('data/data_2018.csv')\n",
    "data_2017 = pd.read_csv('data/data_2017.csv')\n",
    "data_2016 = pd.read_csv('data/data_2016.csv')"
   ]
  },
  {
   "cell_type": "code",
   "execution_count": 5,
   "metadata": {
    "scrolled": true
   },
   "outputs": [
    {
     "data": {
      "text/plain": [
       "Index(['date', 'h_team', 'h_sp_name', 'h_sp_obp', 'h_sp_slg', 'h_sp_gb/fb',\n",
       "       'h_sp_ld', 'h_sp_k/bb', 'v_team', 'v_sp_name', 'v_sp_obp', 'v_sp_slg',\n",
       "       'v_sp_gb/fb', 'v_sp_ld', 'v_sp_k/bb', 'h_obp', 'h_slg', 'h_k_rate',\n",
       "       'h_bb_rate', 'v_obp', 'v_slg', 'v_k_rate', 'v_bb_rate', 'home_win'],\n",
       "      dtype='object')"
      ]
     },
     "execution_count": 5,
     "metadata": {},
     "output_type": "execute_result"
    }
   ],
   "source": [
    "data_2018.columns"
   ]
  },
  {
   "cell_type": "code",
   "execution_count": 9,
   "metadata": {},
   "outputs": [],
   "source": [
    "hcols = ['h_sp_obp', 'h_sp_slg', 'h_sp_gb/fb', 'h_sp_ld', 'h_sp_k/bb', 'h_obp', 'h_slg', 'h_k_rate', 'h_bb_rate']\n",
    "vcols = ['v_sp_obp', 'v_sp_slg', 'v_sp_gb/fb', 'v_sp_ld', 'v_sp_k/bb', 'v_obp', 'v_slg', 'v_k_rate', 'v_bb_rate']\n",
    "ycol = ['home_win']"
   ]
  },
  {
   "cell_type": "markdown",
   "metadata": {},
   "source": [
    "## Difference Dataset"
   ]
  },
  {
   "cell_type": "code",
   "execution_count": 112,
   "metadata": {},
   "outputs": [],
   "source": [
    "diff_data_2018 = pd.DataFrame()\n",
    "for i in range(len(hcols)):\n",
    "    diff_data_2018['d_'+hcols[i][2:]] = data_2018[hcols[i]] - data_2018[vcols[i]]\n",
    "diff_data_2018[ycol] = data_2018[ycol]\n",
    "diff_data_2018.to_csv(path_or_buf = 'data/diff_2018.csv', index=False)"
   ]
  },
  {
   "cell_type": "code",
   "execution_count": 113,
   "metadata": {},
   "outputs": [],
   "source": [
    "diff_data_2017 = pd.DataFrame()\n",
    "for i in range(len(hcols)):\n",
    "    diff_data_2017['d_'+hcols[i][2:]] = data_2017[hcols[i]] - data_2017[vcols[i]]\n",
    "diff_data_2017[ycol] = data_2017[ycol]\n",
    "diff_data_2017.to_csv(path_or_buf = 'data/diff_2017.csv', index=False)"
   ]
  },
  {
   "cell_type": "code",
   "execution_count": 114,
   "metadata": {},
   "outputs": [],
   "source": [
    "diff_data_2016 = pd.DataFrame()\n",
    "for i in range(len(hcols)):\n",
    "    diff_data_2016['d_'+hcols[i][2:]] = data_2016[hcols[i]] - data_2016[vcols[i]]\n",
    "diff_data_2016[ycol] = data_2016[ycol]\n",
    "diff_data_2016.to_csv(path_or_buf = 'data/diff_2016.csv', index=False)"
   ]
  },
  {
   "cell_type": "markdown",
   "metadata": {},
   "source": [
    "## Perceptron with maxiters"
   ]
  },
  {
   "cell_type": "code",
   "execution_count": 149,
   "metadata": {},
   "outputs": [],
   "source": [
    "X = data_2018[hcols + vcols].to_numpy()"
   ]
  },
  {
   "cell_type": "code",
   "execution_count": 150,
   "metadata": {},
   "outputs": [],
   "source": [
    "y = data_2018[ycol].to_numpy()"
   ]
  },
  {
   "cell_type": "code",
   "execution_count": 151,
   "metadata": {},
   "outputs": [],
   "source": [
    "y = np.where(y==0, -1, y) # perceptron context: +1/-1 "
   ]
  },
  {
   "cell_type": "code",
   "execution_count": 177,
   "metadata": {},
   "outputs": [],
   "source": [
    "def perceptron(X, y, maxiters=10000):\n",
    "    w = np.zeros(shape=X.shape[1])\n",
    "    iters = 0\n",
    "    margin = np.multiply(np.matmul(X, w), y.reshape(X.shape[0]))\n",
    "    while iters <= maxiters and (not all(margin > 0)):\n",
    "        ms = np.random.choice(np.where(margin <= 0)[0], size = 1)[0]\n",
    "        w = w + y[ms]*X[ms, :]\n",
    "        margin = np.multiply(np.matmul(X, w), y.reshape(X.shape[0]))\n",
    "        iters += 1\n",
    "    return w"
   ]
  },
  {
   "cell_type": "code",
   "execution_count": 178,
   "metadata": {},
   "outputs": [],
   "source": [
    "w = perceptron(X, y)"
   ]
  },
  {
   "cell_type": "code",
   "execution_count": 179,
   "metadata": {},
   "outputs": [],
   "source": [
    "margin = np.multiply(np.matmul(X, w), y.reshape(X.shape[0]))"
   ]
  },
  {
   "cell_type": "markdown",
   "metadata": {},
   "source": [
    "5000 iters, train error = 50%"
   ]
  },
  {
   "cell_type": "code",
   "execution_count": 180,
   "metadata": {},
   "outputs": [
    {
     "data": {
      "text/plain": [
       "0.5398570643210555"
      ]
     },
     "execution_count": 180,
     "metadata": {},
     "output_type": "execute_result"
    }
   ],
   "source": [
    "sum(margin > 0)/1819"
   ]
  },
  {
   "cell_type": "markdown",
   "metadata": {},
   "source": [
    "### Try diff data"
   ]
  },
  {
   "cell_type": "code",
   "execution_count": 181,
   "metadata": {},
   "outputs": [],
   "source": [
    "X = diff_data_2018.iloc[:, 0:9].to_numpy()\n",
    "y = diff_data_2018['home_win'].to_numpy()\n",
    "y = np.where(y==0, -1, y) # perceptron context: +1/-1 "
   ]
  },
  {
   "cell_type": "code",
   "execution_count": 183,
   "metadata": {
    "scrolled": true
   },
   "outputs": [
    {
     "data": {
      "text/plain": [
       "0.5393073117097307"
      ]
     },
     "execution_count": 183,
     "metadata": {},
     "output_type": "execute_result"
    }
   ],
   "source": [
    "w = perceptron(X, y, maxiters=10000)\n",
    "margin = np.multiply(np.matmul(X, w), y.reshape(X.shape[0]))\n",
    "sum(margin > 0)/1819"
   ]
  },
  {
   "cell_type": "markdown",
   "metadata": {},
   "source": [
    "No improvement."
   ]
  },
  {
   "cell_type": "markdown",
   "metadata": {},
   "source": [
    "# Formal modeling\n",
    "\n",
    "## Perceptron on all data, Train 80%, Test 20%."
   ]
  },
  {
   "cell_type": "code",
   "execution_count": 224,
   "metadata": {},
   "outputs": [],
   "source": [
    "all_data = pd.concat([data_2016, data_2017, data_2018])"
   ]
  },
  {
   "cell_type": "code",
   "execution_count": 236,
   "metadata": {},
   "outputs": [],
   "source": [
    "n = all_data.shape[0]\n",
    "train = list(np.random.choice(np.arange(n), size = round(n*0.80), replace = False))\n",
    "test = [i for i in range(n) if i not in train]"
   ]
  },
  {
   "cell_type": "code",
   "execution_count": 237,
   "metadata": {},
   "outputs": [],
   "source": [
    "train_set = all_data.iloc[train, :]"
   ]
  },
  {
   "cell_type": "code",
   "execution_count": 238,
   "metadata": {},
   "outputs": [],
   "source": [
    "test_set = all_data.iloc[test, :]"
   ]
  },
  {
   "cell_type": "code",
   "execution_count": 239,
   "metadata": {},
   "outputs": [
    {
     "data": {
      "text/plain": [
       "0.5458006718924971"
      ]
     },
     "execution_count": 239,
     "metadata": {},
     "output_type": "execute_result"
    }
   ],
   "source": [
    "X_train = train_set[hcols + vcols].to_numpy()\n",
    "y_train = train_set['home_win'].to_numpy()\n",
    "y_train = np.where(y_train==0, -1, y_train) # perceptron context: +1/-1 \n",
    "w = perceptron(X_train, y_train, maxiters=10000)\n",
    "margin_train = np.multiply(np.matmul(X_train, w), y_train.reshape(X_train.shape[0]))\n",
    "# training error\n",
    "sum(margin_train > 0)/len(train)"
   ]
  },
  {
   "cell_type": "code",
   "execution_count": 240,
   "metadata": {},
   "outputs": [
    {
     "data": {
      "text/plain": [
       "0.5053763440860215"
      ]
     },
     "execution_count": 240,
     "metadata": {},
     "output_type": "execute_result"
    }
   ],
   "source": [
    "X_test = test_set[hcols + vcols].to_numpy()\n",
    "y_test = test_set['home_win'].to_numpy()\n",
    "y_test = np.where(y_test==0, -1, y_test) # perceptron context: +1/-1 \n",
    "margin_test = np.multiply(np.matmul(X_test, w), y_test.reshape(X_test.shape[0]))\n",
    "# test error\n",
    "sum(margin_test > 0)/len(test)"
   ]
  },
  {
   "cell_type": "markdown",
   "metadata": {},
   "source": [
    "### Cross-Validation: Perceptron"
   ]
  },
  {
   "cell_type": "code",
   "execution_count": 244,
   "metadata": {},
   "outputs": [
    {
     "name": "stdout",
     "output_type": "stream",
     "text": [
      "0.5061388577827547\n",
      "0.5070698924731183\n"
     ]
    }
   ],
   "source": [
    "train_rates = []\n",
    "test_rates = []\n",
    "for _ in range(100):\n",
    "    train_set = all_data.iloc[train, :]\n",
    "    test_set = all_data.iloc[test, :]\n",
    "\n",
    "    X_train = train_set[hcols + vcols].to_numpy()\n",
    "    y_train = train_set['home_win'].to_numpy()\n",
    "    y_train = np.where(y_train==0, -1, y_train) # perceptron context: +1/-1 \n",
    "    w = perceptron(X_train, y_train, maxiters=10000)\n",
    "    \n",
    "    margin_train = np.multiply(np.matmul(X_train, w), y_train.reshape(X_train.shape[0]))\n",
    "    # train error\n",
    "    train_rates.append(sum(margin_train > 0)/len(train))\n",
    "    \n",
    "    X_test = test_set[hcols + vcols].to_numpy()\n",
    "    y_test = test_set['home_win'].to_numpy()\n",
    "    y_test = np.where(y_test==0, -1, y_test) # perceptron context: +1/-1 \n",
    "    \n",
    "    margin_test = np.multiply(np.matmul(X_test, w), y_test.reshape(X_test.shape[0]))\n",
    "    # test error\n",
    "    test_rates.append(sum(margin_test > 0)/len(test))\n",
    "\n",
    "print(np.mean(train_rates))\n",
    "print(np.mean(test_rates))"
   ]
  },
  {
   "cell_type": "code",
   "execution_count": null,
   "metadata": {},
   "outputs": [],
   "source": []
  }
 ],
 "metadata": {
  "kernelspec": {
   "display_name": "Python 3",
   "language": "python",
   "name": "python3"
  },
  "language_info": {
   "codemirror_mode": {
    "name": "ipython",
    "version": 3
   },
   "file_extension": ".py",
   "mimetype": "text/x-python",
   "name": "python",
   "nbconvert_exporter": "python",
   "pygments_lexer": "ipython3",
   "version": "3.6.5"
  }
 },
 "nbformat": 4,
 "nbformat_minor": 2
}
